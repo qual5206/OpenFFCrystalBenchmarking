{
 "cells": [
  {
   "cell_type": "code",
   "execution_count": null,
   "metadata": {
    "collapsed": true
   },
   "outputs": [],
   "source": [
    "#Import and view carbamazepine\n",
    "\n",
    "from rdkit import Chem\n",
    "from openbabel import pybel\n",
    "import py3Dmol\n",
    "from openff.toolkit.topology import Molecule,Topology\n",
    "from openff.toolkit.utils import RDKitToolkitWrapper\n",
    "from simtk import openmm, unit\n",
    "\n",
    "# Use RDKit wrapper\n",
    "rdktkw = RDKitToolkitWrapper()\n",
    "\n",
    "mol = next(pybel.readfile(\"cif\",\"2107460.cif\"))\n",
    "\n",
    "molblock = mol.write(\"mmcif\",'2107460.mmcif',True)\n",
    "print(molblock)"
   ]
  },
  {
   "cell_type": "code",
   "execution_count": 42,
   "outputs": [],
   "source": [
    "m = Chem.MolFromMolBlock(molblock,removeHs=False)\n",
    "#help(m)\n"
   ],
   "metadata": {
    "collapsed": false,
    "pycharm": {
     "name": "#%%\n"
    }
   }
  },
  {
   "cell_type": "code",
   "execution_count": 31,
   "outputs": [
    {
     "data": {
      "application/3dmoljs_load.v0": "<div id=\"3dmolviewer_16314844935428412\"  style=\"position: relative; width: 640px; height: 480px\">\n        <p id=\"3dmolwarning_16314844935428412\" style=\"background-color:#ffcccc;color:black\">You appear to be running in JupyterLab (or JavaScript failed to load for some other reason).  You need to install the 3dmol extension: <br>\n        <tt>jupyter labextension install jupyterlab_3dmol</tt></p>\n        </div>\n<script>\n\nvar loadScriptAsync = function(uri){\n  return new Promise((resolve, reject) => {\n    var tag = document.createElement('script');\n    tag.src = uri;\n    tag.async = true;\n    tag.onload = () => {\n      resolve();\n    };\n  var firstScriptTag = document.getElementsByTagName('script')[0];\n  firstScriptTag.parentNode.insertBefore(tag, firstScriptTag);\n});\n};\n\nif(typeof $3Dmolpromise === 'undefined') {\n$3Dmolpromise = null;\n  $3Dmolpromise = loadScriptAsync('https://3dmol.org/build/3Dmol.js');\n}\n\nvar viewer_16314844935428412 = null;\nvar warn = document.getElementById(\"3dmolwarning_16314844935428412\");\nif(warn) {\n    warn.parentNode.removeChild(warn);\n}\n$3Dmolpromise.then(function() {\nviewer_16314844935428412 = $3Dmol.createViewer($(\"#3dmolviewer_16314844935428412\"),{backgroundColor:\"white\"});\nviewer_16314844935428412.zoomTo();\n\tviewer_16314844935428412.addModel(\"6-methoxy-2-{(4-methoxy-3,5-dimethyl-2-pyridinyl)methylsulfinyl} -1H-benzimidazole\\n OpenBabel09122116083D\\n\\n 43 45  0  0  0  0  0  0  0  0999 V2000\\n    3.8707    1.1935    5.2742 N   0  0  0  0  0  0  0  0  0  0  0  0\\n    4.0899    0.4930    4.8387 H   0  0  0  0  0  0  0  0  0  0  0  0\\n    2.5704    1.5239    5.5152 C   0  0  0  0  0  0  0  0  0  0  0  0\\n    2.4013    2.6505    6.1619 N   0  0  0  0  0  0  0  0  0  0  0  0\\n    3.6908    3.1228    6.3405 C   0  0  0  0  0  0  0  0  0  0  0  0\\n    4.1361    4.3244    6.9072 C   0  0  0  0  0  0  0  0  0  0  0  0\\n    3.5374    4.9408    7.2617 H   0  0  0  0  0  0  0  0  0  0  0  0\\n    5.4861    4.5583    6.9184 C   0  0  0  0  0  0  0  0  0  0  0  0\\n    5.8045    5.3496    7.2878 H   0  0  0  0  0  0  0  0  0  0  0  0\\n    6.4088    3.6283    6.3833 C   0  0  0  0  0  0  0  0  0  0  0  0\\n    5.9940    2.4339    5.8176 C   0  0  0  0  0  0  0  0  0  0  0  0\\n    6.5948    1.8149    5.4714 H   0  0  0  0  0  0  0  0  0  0  0  0\\n    4.6182    2.2194    5.8018 C   0  0  0  0  0  0  0  0  0  0  0  0\\n    1.4956    0.4851    3.2875 C   0  0  0  0  0  0  0  0  0  0  0  0\\n    1.5473    1.3874    2.9367 H   0  0  0  0  0  0  0  0  0  0  0  0\\n    2.3457    0.0467    3.1247 H   0  0  0  0  0  0  0  0  0  0  0  0\\n    0.3868   -0.2731    2.5896 C   0  0  0  0  0  0  0  0  0  0  0  0\\n    0.6351   -1.0786    1.4777 C   0  0  0  0  0  0  0  0  0  0  0  0\\n   -0.4823   -1.6216    0.8440 C   0  0  0  0  0  0  0  0  0  0  0  0\\n   -1.7693   -1.3925    1.3223 C   0  0  0  0  0  0  0  0  0  0  0  0\\n   -1.8733   -0.6154    2.4705 C   0  0  0  0  0  0  0  0  0  0  0  0\\n   -2.7208   -0.4772    2.8269 H   0  0  0  0  0  0  0  0  0  0  0  0\\n    2.0153   -1.3548    0.9426 C   0  0  0  0  0  0  0  0  0  0  0  0\\n    2.6444   -0.7642    1.3623 H   0  0  0  0  0  0  0  0  0  0  0  0\\n    2.0247   -1.2117   -0.0065 H   0  0  0  0  0  0  0  0  0  0  0  0\\n    2.2543   -2.2644    1.1324 H   0  0  0  0  0  0  0  0  0  0  0  0\\n   -3.0012   -1.9179    0.6225 C   0  0  0  0  0  0  0  0  0  0  0  0\\n   -3.1071   -2.8521    0.8198 H   0  0  0  0  0  0  0  0  0  0  0  0\\n   -2.9051   -1.7999   -0.3257 H   0  0  0  0  0  0  0  0  0  0  0  0\\n   -3.7728   -1.4364    0.9287 H   0  0  0  0  0  0  0  0  0  0  0  0\\n   -0.2055   -3.7571   -0.1061 C   0  0  0  0  0  0  0  0  0  0  0  0\\n   -1.0285   -4.0845    0.2643 H   0  0  0  0  0  0  0  0  0  0  0  0\\n    0.5135   -3.9380    0.5034 H   0  0  0  0  0  0  0  0  0  0  0  0\\n   -0.0343   -4.1963   -0.9426 H   0  0  0  0  0  0  0  0  0  0  0  0\\n    8.6887    3.0619    6.0428 C   0  0  0  0  0  0  0  0  0  0  0  0\\n    8.5574    2.8776    5.1104 H   0  0  0  0  0  0  0  0  0  0  0  0\\n    8.5953    2.2499    6.5462 H   0  0  0  0  0  0  0  0  0  0  0  0\\n    9.5685    3.4224    6.1777 H   0  0  0  0  0  0  0  0  0  0  0  0\\n    7.7132    4.0098    6.4820 O   0  0  0  0  0  0  0  0  0  0  0  0\\n    1.4280   -0.8646    5.5654 O   0  0  0  0  0  0  0  0  0  0  0  0\\n   -0.3058   -2.3417   -0.3203 O   0  0  0  0  0  0  0  0  0  0  0  0\\n   -0.8350   -0.0539    3.0949 N   0  0  0  0  0  0  0  0  0  0  0  0\\n    1.1634    0.5372    5.0668 S   0  0  1  0  0  0  0  0  0  0  0  0\\n  1  3  1  0  0  0  0\\n  1 13  1  0  0  0  0\\n  2  1  1  0  0  0  0\\n  3  4  2  0  0  0  0\\n  4  5  1  0  0  0  0\\n  5  6  1  0  0  0  0\\n  6  8  2  0  0  0  0\\n  6  7  1  0  0  0  0\\n  8  9  1  0  0  0  0\\n 10 39  1  0  0  0  0\\n 10  8  1  0  0  0  0\\n 11 10  2  0  0  0  0\\n 12 11  1  0  0  0  0\\n 13 11  1  0  0  0  0\\n 13  5  2  0  0  0  0\\n 14 43  1  0  0  0  0\\n 15 14  1  0  0  0  0\\n 16 14  1  0  0  0  0\\n 17 42  1  0  0  0  0\\n 17 14  1  0  0  0  0\\n 18 17  2  0  0  0  0\\n 19 20  2  0  0  0  0\\n 19 18  1  0  0  0  0\\n 20 21  1  0  0  0  0\\n 21 22  1  0  0  0  0\\n 21 42  2  0  0  0  0\\n 23 26  1  0  0  0  0\\n 23 24  1  0  0  0  0\\n 23 18  1  0  0  0  0\\n 25 23  1  0  0  0  0\\n 27 28  1  0  0  0  0\\n 27 30  1  0  0  0  0\\n 27 20  1  0  0  0  0\\n 29 27  1  0  0  0  0\\n 31 32  1  0  0  0  0\\n 31 33  1  0  0  0  0\\n 34 31  1  0  0  0  0\\n 35 38  1  0  0  0  0\\n 35 39  1  0  0  0  0\\n 35 37  1  0  0  0  0\\n 36 35  1  0  0  0  0\\n 41 31  1  0  0  0  0\\n 41 19  1  0  0  0  0\\n 43  3  1  0  0  0  0\\n 43 40  2  1  0  0  0\\nM  END\\n\",\"mol\");\nviewer_16314844935428412.render();\n});\n</script>",
      "text/html": "<div id=\"3dmolviewer_16314844935428412\"  style=\"position: relative; width: 640px; height: 480px\">\n        <p id=\"3dmolwarning_16314844935428412\" style=\"background-color:#ffcccc;color:black\">You appear to be running in JupyterLab (or JavaScript failed to load for some other reason).  You need to install the 3dmol extension: <br>\n        <tt>jupyter labextension install jupyterlab_3dmol</tt></p>\n        </div>\n<script>\n\nvar loadScriptAsync = function(uri){\n  return new Promise((resolve, reject) => {\n    var tag = document.createElement('script');\n    tag.src = uri;\n    tag.async = true;\n    tag.onload = () => {\n      resolve();\n    };\n  var firstScriptTag = document.getElementsByTagName('script')[0];\n  firstScriptTag.parentNode.insertBefore(tag, firstScriptTag);\n});\n};\n\nif(typeof $3Dmolpromise === 'undefined') {\n$3Dmolpromise = null;\n  $3Dmolpromise = loadScriptAsync('https://3dmol.org/build/3Dmol.js');\n}\n\nvar viewer_16314844935428412 = null;\nvar warn = document.getElementById(\"3dmolwarning_16314844935428412\");\nif(warn) {\n    warn.parentNode.removeChild(warn);\n}\n$3Dmolpromise.then(function() {\nviewer_16314844935428412 = $3Dmol.createViewer($(\"#3dmolviewer_16314844935428412\"),{backgroundColor:\"white\"});\nviewer_16314844935428412.zoomTo();\n\tviewer_16314844935428412.addModel(\"6-methoxy-2-{(4-methoxy-3,5-dimethyl-2-pyridinyl)methylsulfinyl} -1H-benzimidazole\\n OpenBabel09122116083D\\n\\n 43 45  0  0  0  0  0  0  0  0999 V2000\\n    3.8707    1.1935    5.2742 N   0  0  0  0  0  0  0  0  0  0  0  0\\n    4.0899    0.4930    4.8387 H   0  0  0  0  0  0  0  0  0  0  0  0\\n    2.5704    1.5239    5.5152 C   0  0  0  0  0  0  0  0  0  0  0  0\\n    2.4013    2.6505    6.1619 N   0  0  0  0  0  0  0  0  0  0  0  0\\n    3.6908    3.1228    6.3405 C   0  0  0  0  0  0  0  0  0  0  0  0\\n    4.1361    4.3244    6.9072 C   0  0  0  0  0  0  0  0  0  0  0  0\\n    3.5374    4.9408    7.2617 H   0  0  0  0  0  0  0  0  0  0  0  0\\n    5.4861    4.5583    6.9184 C   0  0  0  0  0  0  0  0  0  0  0  0\\n    5.8045    5.3496    7.2878 H   0  0  0  0  0  0  0  0  0  0  0  0\\n    6.4088    3.6283    6.3833 C   0  0  0  0  0  0  0  0  0  0  0  0\\n    5.9940    2.4339    5.8176 C   0  0  0  0  0  0  0  0  0  0  0  0\\n    6.5948    1.8149    5.4714 H   0  0  0  0  0  0  0  0  0  0  0  0\\n    4.6182    2.2194    5.8018 C   0  0  0  0  0  0  0  0  0  0  0  0\\n    1.4956    0.4851    3.2875 C   0  0  0  0  0  0  0  0  0  0  0  0\\n    1.5473    1.3874    2.9367 H   0  0  0  0  0  0  0  0  0  0  0  0\\n    2.3457    0.0467    3.1247 H   0  0  0  0  0  0  0  0  0  0  0  0\\n    0.3868   -0.2731    2.5896 C   0  0  0  0  0  0  0  0  0  0  0  0\\n    0.6351   -1.0786    1.4777 C   0  0  0  0  0  0  0  0  0  0  0  0\\n   -0.4823   -1.6216    0.8440 C   0  0  0  0  0  0  0  0  0  0  0  0\\n   -1.7693   -1.3925    1.3223 C   0  0  0  0  0  0  0  0  0  0  0  0\\n   -1.8733   -0.6154    2.4705 C   0  0  0  0  0  0  0  0  0  0  0  0\\n   -2.7208   -0.4772    2.8269 H   0  0  0  0  0  0  0  0  0  0  0  0\\n    2.0153   -1.3548    0.9426 C   0  0  0  0  0  0  0  0  0  0  0  0\\n    2.6444   -0.7642    1.3623 H   0  0  0  0  0  0  0  0  0  0  0  0\\n    2.0247   -1.2117   -0.0065 H   0  0  0  0  0  0  0  0  0  0  0  0\\n    2.2543   -2.2644    1.1324 H   0  0  0  0  0  0  0  0  0  0  0  0\\n   -3.0012   -1.9179    0.6225 C   0  0  0  0  0  0  0  0  0  0  0  0\\n   -3.1071   -2.8521    0.8198 H   0  0  0  0  0  0  0  0  0  0  0  0\\n   -2.9051   -1.7999   -0.3257 H   0  0  0  0  0  0  0  0  0  0  0  0\\n   -3.7728   -1.4364    0.9287 H   0  0  0  0  0  0  0  0  0  0  0  0\\n   -0.2055   -3.7571   -0.1061 C   0  0  0  0  0  0  0  0  0  0  0  0\\n   -1.0285   -4.0845    0.2643 H   0  0  0  0  0  0  0  0  0  0  0  0\\n    0.5135   -3.9380    0.5034 H   0  0  0  0  0  0  0  0  0  0  0  0\\n   -0.0343   -4.1963   -0.9426 H   0  0  0  0  0  0  0  0  0  0  0  0\\n    8.6887    3.0619    6.0428 C   0  0  0  0  0  0  0  0  0  0  0  0\\n    8.5574    2.8776    5.1104 H   0  0  0  0  0  0  0  0  0  0  0  0\\n    8.5953    2.2499    6.5462 H   0  0  0  0  0  0  0  0  0  0  0  0\\n    9.5685    3.4224    6.1777 H   0  0  0  0  0  0  0  0  0  0  0  0\\n    7.7132    4.0098    6.4820 O   0  0  0  0  0  0  0  0  0  0  0  0\\n    1.4280   -0.8646    5.5654 O   0  0  0  0  0  0  0  0  0  0  0  0\\n   -0.3058   -2.3417   -0.3203 O   0  0  0  0  0  0  0  0  0  0  0  0\\n   -0.8350   -0.0539    3.0949 N   0  0  0  0  0  0  0  0  0  0  0  0\\n    1.1634    0.5372    5.0668 S   0  0  1  0  0  0  0  0  0  0  0  0\\n  1  3  1  0  0  0  0\\n  1 13  1  0  0  0  0\\n  2  1  1  0  0  0  0\\n  3  4  2  0  0  0  0\\n  4  5  1  0  0  0  0\\n  5  6  1  0  0  0  0\\n  6  8  2  0  0  0  0\\n  6  7  1  0  0  0  0\\n  8  9  1  0  0  0  0\\n 10 39  1  0  0  0  0\\n 10  8  1  0  0  0  0\\n 11 10  2  0  0  0  0\\n 12 11  1  0  0  0  0\\n 13 11  1  0  0  0  0\\n 13  5  2  0  0  0  0\\n 14 43  1  0  0  0  0\\n 15 14  1  0  0  0  0\\n 16 14  1  0  0  0  0\\n 17 42  1  0  0  0  0\\n 17 14  1  0  0  0  0\\n 18 17  2  0  0  0  0\\n 19 20  2  0  0  0  0\\n 19 18  1  0  0  0  0\\n 20 21  1  0  0  0  0\\n 21 22  1  0  0  0  0\\n 21 42  2  0  0  0  0\\n 23 26  1  0  0  0  0\\n 23 24  1  0  0  0  0\\n 23 18  1  0  0  0  0\\n 25 23  1  0  0  0  0\\n 27 28  1  0  0  0  0\\n 27 30  1  0  0  0  0\\n 27 20  1  0  0  0  0\\n 29 27  1  0  0  0  0\\n 31 32  1  0  0  0  0\\n 31 33  1  0  0  0  0\\n 34 31  1  0  0  0  0\\n 35 38  1  0  0  0  0\\n 35 39  1  0  0  0  0\\n 35 37  1  0  0  0  0\\n 36 35  1  0  0  0  0\\n 41 31  1  0  0  0  0\\n 41 19  1  0  0  0  0\\n 43  3  1  0  0  0  0\\n 43 40  2  1  0  0  0\\nM  END\\n\",\"mol\");\nviewer_16314844935428412.render();\n});\n</script>"
     },
     "metadata": {},
     "output_type": "display_data"
    },
    {
     "data": {
      "text/plain": "<py3Dmol.view at 0x7f287b9f5cd0>"
     },
     "execution_count": 31,
     "metadata": {},
     "output_type": "execute_result"
    }
   ],
   "source": [
    "viewer = py3Dmol.view()\n",
    "viewer.addModel(molblock,'mol')"
   ],
   "metadata": {
    "collapsed": false,
    "pycharm": {
     "name": "#%%\n"
    }
   }
  },
  {
   "cell_type": "code",
   "execution_count": 32,
   "outputs": [],
   "source": [
    "from openff.toolkit.typing.engines.smirnoff import ForceField\n",
    "forcefield = ForceField('openff_unconstrained-1.1.0.offxml')\n",
    "\n",
    "off_mol = Molecule.from_rdkit(m)\n",
    "rdktkw.assign_partial_charges(off_mol)"
   ],
   "metadata": {
    "collapsed": false,
    "pycharm": {
     "name": "#%%\n"
    }
   }
  },
  {
   "cell_type": "code",
   "execution_count": 37,
   "outputs": [
    {
     "data": {
      "text/plain": "False"
     },
     "execution_count": 37,
     "metadata": {},
     "output_type": "execute_result"
    }
   ],
   "source": [
    "off_top = off_mol.to_topology()\n",
    "off_mol.visualize()\n",
    "off_top.is_periodic"
   ],
   "metadata": {
    "collapsed": false,
    "pycharm": {
     "name": "#%%\n"
    }
   }
  },
  {
   "cell_type": "code",
   "execution_count": 67,
   "outputs": [
    {
     "ename": "NotImplementedError",
     "evalue": "",
     "output_type": "error",
     "traceback": [
      "\u001B[0;31m---------------------------------------------------------------------------\u001B[0m",
      "\u001B[0;31mNotImplementedError\u001B[0m                       Traceback (most recent call last)",
      "\u001B[0;32m/tmp/ipykernel_21684/1049066557.py\u001B[0m in \u001B[0;36m<module>\u001B[0;34m\u001B[0m\n\u001B[1;32m      1\u001B[0m \u001B[0mintegrator\u001B[0m \u001B[0;34m=\u001B[0m \u001B[0mopenmm\u001B[0m\u001B[0;34m.\u001B[0m\u001B[0mVerletIntegrator\u001B[0m\u001B[0;34m(\u001B[0m\u001B[0;36m1\u001B[0m\u001B[0;34m*\u001B[0m\u001B[0munit\u001B[0m\u001B[0;34m.\u001B[0m\u001B[0mfemtoseconds\u001B[0m\u001B[0;34m)\u001B[0m\u001B[0;34m\u001B[0m\u001B[0;34m\u001B[0m\u001B[0m\n\u001B[1;32m      2\u001B[0m \u001B[0mplatform\u001B[0m \u001B[0;34m=\u001B[0m \u001B[0mopenmm\u001B[0m\u001B[0;34m.\u001B[0m\u001B[0mPlatform\u001B[0m\u001B[0;34m.\u001B[0m\u001B[0mgetPlatformByName\u001B[0m\u001B[0;34m(\u001B[0m\u001B[0;34m'Reference'\u001B[0m\u001B[0;34m)\u001B[0m\u001B[0;34m\u001B[0m\u001B[0;34m\u001B[0m\u001B[0m\n\u001B[0;32m----> 3\u001B[0;31m \u001B[0mprint\u001B[0m\u001B[0;34m(\u001B[0m\u001B[0moff_top\u001B[0m\u001B[0;34m.\u001B[0m\u001B[0mto_xml\u001B[0m\u001B[0;34m(\u001B[0m\u001B[0;34m)\u001B[0m\u001B[0;34m)\u001B[0m\u001B[0;34m\u001B[0m\u001B[0;34m\u001B[0m\u001B[0m\n\u001B[0m\u001B[1;32m      4\u001B[0m \u001B[0momm_top\u001B[0m \u001B[0;34m=\u001B[0m \u001B[0moff_top\u001B[0m\u001B[0;34m.\u001B[0m\u001B[0mto_openmm\u001B[0m\u001B[0;34m(\u001B[0m\u001B[0;34m)\u001B[0m\u001B[0;34m;\u001B[0m\u001B[0;34m\u001B[0m\u001B[0;34m\u001B[0m\u001B[0m\n\u001B[1;32m      5\u001B[0m \u001B[0;34m\u001B[0m\u001B[0m\n",
      "\u001B[0;32m~/anaconda3/envs/openFF/lib/python3.9/site-packages/openff/toolkit/utils/serialization.py\u001B[0m in \u001B[0;36mto_xml\u001B[0;34m(self, indent)\u001B[0m\n\u001B[1;32m    392\u001B[0m         \u001B[0;31m# An XML document requires one and only one root node.\u001B[0m\u001B[0;34m\u001B[0m\u001B[0;34m\u001B[0m\u001B[0;34m\u001B[0m\u001B[0m\n\u001B[1;32m    393\u001B[0m         \u001B[0mroot_name\u001B[0m \u001B[0;34m=\u001B[0m \u001B[0mself\u001B[0m\u001B[0;34m.\u001B[0m\u001B[0m__class__\u001B[0m\u001B[0;34m.\u001B[0m\u001B[0m__name__\u001B[0m\u001B[0;34m\u001B[0m\u001B[0;34m\u001B[0m\u001B[0m\n\u001B[0;32m--> 394\u001B[0;31m         \u001B[0md\u001B[0m \u001B[0;34m=\u001B[0m \u001B[0;34m{\u001B[0m\u001B[0mroot_name\u001B[0m\u001B[0;34m:\u001B[0m \u001B[0mself\u001B[0m\u001B[0;34m.\u001B[0m\u001B[0mto_dict\u001B[0m\u001B[0;34m(\u001B[0m\u001B[0;34m)\u001B[0m\u001B[0;34m}\u001B[0m\u001B[0;34m\u001B[0m\u001B[0;34m\u001B[0m\u001B[0m\n\u001B[0m\u001B[1;32m    395\u001B[0m         \u001B[0;31m# Configure indentation level.\u001B[0m\u001B[0;34m\u001B[0m\u001B[0;34m\u001B[0m\u001B[0;34m\u001B[0m\u001B[0m\n\u001B[1;32m    396\u001B[0m         \u001B[0;32mif\u001B[0m \u001B[0mindent\u001B[0m \u001B[0;32mis\u001B[0m \u001B[0;32mnot\u001B[0m \u001B[0;32mNone\u001B[0m\u001B[0;34m:\u001B[0m\u001B[0;34m\u001B[0m\u001B[0;34m\u001B[0m\u001B[0m\n",
      "\u001B[0;32m~/anaconda3/envs/openFF/lib/python3.9/site-packages/openff/toolkit/topology/topology.py\u001B[0m in \u001B[0;36mto_dict\u001B[0;34m(self)\u001B[0m\n\u001B[1;32m   2138\u001B[0m         \u001B[0;34m\"\"\"Convert to dictionary representation.\"\"\"\u001B[0m\u001B[0;34m\u001B[0m\u001B[0;34m\u001B[0m\u001B[0m\n\u001B[1;32m   2139\u001B[0m         \u001B[0;31m# Implement abstract method Serializable.to_dict()\u001B[0m\u001B[0;34m\u001B[0m\u001B[0;34m\u001B[0m\u001B[0;34m\u001B[0m\u001B[0m\n\u001B[0;32m-> 2140\u001B[0;31m         \u001B[0;32mraise\u001B[0m \u001B[0mNotImplementedError\u001B[0m\u001B[0;34m(\u001B[0m\u001B[0;34m)\u001B[0m  \u001B[0;31m# TODO\u001B[0m\u001B[0;34m\u001B[0m\u001B[0;34m\u001B[0m\u001B[0m\n\u001B[0m\u001B[1;32m   2141\u001B[0m \u001B[0;34m\u001B[0m\u001B[0m\n\u001B[1;32m   2142\u001B[0m     \u001B[0;34m@\u001B[0m\u001B[0mclassmethod\u001B[0m\u001B[0;34m\u001B[0m\u001B[0;34m\u001B[0m\u001B[0m\n",
      "\u001B[0;31mNotImplementedError\u001B[0m: "
     ]
    }
   ],
   "source": [
    "integrator = openmm.VerletIntegrator(1*unit.femtoseconds)\n",
    "platform = openmm.Platform.getPlatformByName('Reference')\n",
    "print(off_top.to_file)\n",
    "omm_top = off_top.to_openmm();"
   ],
   "metadata": {
    "collapsed": false,
    "pycharm": {
     "name": "#%%\n"
    }
   }
  },
  {
   "cell_type": "code",
   "execution_count": 68,
   "outputs": [
    {
     "name": "stderr",
     "output_type": "stream",
     "text": [
      "/bin/bash: /home/qualenal/anaconda3/envs/openFF/lib/libtinfo.so.6: no version information available (required by /bin/bash)\n",
      "/bin/bash: /home/qualenal/anaconda3/envs/openFF/lib/libtinfo.so.6: no version information available (required by /bin/bash)\n",
      "/bin/bash: /home/qualenal/anaconda3/envs/openFF/lib/libtinfo.so.6: no version information available (required by /bin/bash)\n",
      "/bin/bash: /home/qualenal/anaconda3/envs/openFF/lib/libtinfo.so.6: no version information available (required by /bin/bash)\n",
      "/bin/bash: /home/qualenal/anaconda3/envs/openFF/lib/libtinfo.so.6: no version information available (required by /bin/bash)\n",
      "/bin/bash: /home/qualenal/anaconda3/envs/openFF/lib/libtinfo.so.6: no version information available (required by /bin/bash)\n"
     ]
    }
   ],
   "source": [
    "off_mol = Molecule.from_pdb_and_smiles(\"notebooks/2107460.pdb\",\"O=C(N)N1c2ccccc2C=Cc2ccccc12\")\n",
    "off_top = Topology.from_molecules(off_mol)\n",
    "system = forcefield.create_openmm_system(off_top)"
   ],
   "metadata": {
    "collapsed": false,
    "pycharm": {
     "name": "#%%\n"
    }
   }
  },
  {
   "cell_type": "code",
   "execution_count": 70,
   "outputs": [
    {
     "ename": "OpenMMException",
     "evalue": "This Integrator is already bound to a context",
     "output_type": "error",
     "traceback": [
      "\u001B[0;31m---------------------------------------------------------------------------\u001B[0m",
      "\u001B[0;31mOpenMMException\u001B[0m                           Traceback (most recent call last)",
      "\u001B[0;32m/tmp/ipykernel_21684/3296376091.py\u001B[0m in \u001B[0;36m<module>\u001B[0;34m\u001B[0m\n\u001B[0;32m----> 1\u001B[0;31m \u001B[0msimulation\u001B[0m \u001B[0;34m=\u001B[0m \u001B[0mopenmm\u001B[0m\u001B[0;34m.\u001B[0m\u001B[0mapp\u001B[0m\u001B[0;34m.\u001B[0m\u001B[0mSimulation\u001B[0m\u001B[0;34m(\u001B[0m\u001B[0momm_top\u001B[0m\u001B[0;34m,\u001B[0m\u001B[0msystem\u001B[0m\u001B[0;34m,\u001B[0m\u001B[0mintegrator\u001B[0m\u001B[0;34m,\u001B[0m\u001B[0mplatform\u001B[0m\u001B[0;34m)\u001B[0m\u001B[0;34m\u001B[0m\u001B[0;34m\u001B[0m\u001B[0m\n\u001B[0m\u001B[1;32m      2\u001B[0m \u001B[0msimulation\u001B[0m\u001B[0;34m.\u001B[0m\u001B[0msaveState\u001B[0m\u001B[0;34m(\u001B[0m\u001B[0;34m'before'\u001B[0m\u001B[0;34m)\u001B[0m\u001B[0;34m\u001B[0m\u001B[0;34m\u001B[0m\u001B[0m\n\u001B[1;32m      3\u001B[0m \u001B[0msimulation\u001B[0m\u001B[0;34m.\u001B[0m\u001B[0mminimizeEnergy\u001B[0m\u001B[0;34m(\u001B[0m\u001B[0;34m)\u001B[0m\u001B[0;34m\u001B[0m\u001B[0;34m\u001B[0m\u001B[0m\n\u001B[1;32m      4\u001B[0m \u001B[0msimulation\u001B[0m\u001B[0;34m.\u001B[0m\u001B[0msaveState\u001B[0m\u001B[0;34m(\u001B[0m\u001B[0;34m'after'\u001B[0m\u001B[0;34m)\u001B[0m\u001B[0;34m\u001B[0m\u001B[0;34m\u001B[0m\u001B[0m\n\u001B[1;32m      5\u001B[0m \u001B[0;34m\u001B[0m\u001B[0m\n",
      "\u001B[0;32m~/anaconda3/envs/openFF/lib/python3.9/site-packages/openmm/app/simulation.py\u001B[0m in \u001B[0;36m__init__\u001B[0;34m(self, topology, system, integrator, platform, platformProperties, state)\u001B[0m\n\u001B[1;32m    101\u001B[0m             \u001B[0mself\u001B[0m\u001B[0;34m.\u001B[0m\u001B[0mcontext\u001B[0m \u001B[0;34m=\u001B[0m \u001B[0mmm\u001B[0m\u001B[0;34m.\u001B[0m\u001B[0mContext\u001B[0m\u001B[0;34m(\u001B[0m\u001B[0mself\u001B[0m\u001B[0;34m.\u001B[0m\u001B[0msystem\u001B[0m\u001B[0;34m,\u001B[0m \u001B[0mself\u001B[0m\u001B[0;34m.\u001B[0m\u001B[0mintegrator\u001B[0m\u001B[0;34m)\u001B[0m\u001B[0;34m\u001B[0m\u001B[0;34m\u001B[0m\u001B[0m\n\u001B[1;32m    102\u001B[0m         \u001B[0;32melif\u001B[0m \u001B[0mplatformProperties\u001B[0m \u001B[0;32mis\u001B[0m \u001B[0;32mNone\u001B[0m\u001B[0;34m:\u001B[0m\u001B[0;34m\u001B[0m\u001B[0;34m\u001B[0m\u001B[0m\n\u001B[0;32m--> 103\u001B[0;31m             \u001B[0mself\u001B[0m\u001B[0;34m.\u001B[0m\u001B[0mcontext\u001B[0m \u001B[0;34m=\u001B[0m \u001B[0mmm\u001B[0m\u001B[0;34m.\u001B[0m\u001B[0mContext\u001B[0m\u001B[0;34m(\u001B[0m\u001B[0mself\u001B[0m\u001B[0;34m.\u001B[0m\u001B[0msystem\u001B[0m\u001B[0;34m,\u001B[0m \u001B[0mself\u001B[0m\u001B[0;34m.\u001B[0m\u001B[0mintegrator\u001B[0m\u001B[0;34m,\u001B[0m \u001B[0mplatform\u001B[0m\u001B[0;34m)\u001B[0m\u001B[0;34m\u001B[0m\u001B[0;34m\u001B[0m\u001B[0m\n\u001B[0m\u001B[1;32m    104\u001B[0m         \u001B[0;32melse\u001B[0m\u001B[0;34m:\u001B[0m\u001B[0;34m\u001B[0m\u001B[0;34m\u001B[0m\u001B[0m\n\u001B[1;32m    105\u001B[0m             \u001B[0mself\u001B[0m\u001B[0;34m.\u001B[0m\u001B[0mcontext\u001B[0m \u001B[0;34m=\u001B[0m \u001B[0mmm\u001B[0m\u001B[0;34m.\u001B[0m\u001B[0mContext\u001B[0m\u001B[0;34m(\u001B[0m\u001B[0mself\u001B[0m\u001B[0;34m.\u001B[0m\u001B[0msystem\u001B[0m\u001B[0;34m,\u001B[0m \u001B[0mself\u001B[0m\u001B[0;34m.\u001B[0m\u001B[0mintegrator\u001B[0m\u001B[0;34m,\u001B[0m \u001B[0mplatform\u001B[0m\u001B[0;34m,\u001B[0m \u001B[0mplatformProperties\u001B[0m\u001B[0;34m)\u001B[0m\u001B[0;34m\u001B[0m\u001B[0;34m\u001B[0m\u001B[0m\n",
      "\u001B[0;32m~/anaconda3/envs/openFF/lib/python3.9/site-packages/openmm/openmm.py\u001B[0m in \u001B[0;36m__init__\u001B[0;34m(self, *args)\u001B[0m\n\u001B[1;32m   3949\u001B[0m             \u001B[0ma\u001B[0m \u001B[0mset\u001B[0m \u001B[0mof\u001B[0m \u001B[0mvalues\u001B[0m \u001B[0;32mfor\u001B[0m \u001B[0mplatform\u001B[0m\u001B[0;34m-\u001B[0m\u001B[0mspecific\u001B[0m \u001B[0mproperties\u001B[0m\u001B[0;34m.\u001B[0m \u001B[0mKeys\u001B[0m \u001B[0mare\u001B[0m \u001B[0mthe\u001B[0m \u001B[0mproperty\u001B[0m \u001B[0mnames\u001B[0m\u001B[0;34m.\u001B[0m\u001B[0;34m\u001B[0m\u001B[0;34m\u001B[0m\u001B[0m\n\u001B[1;32m   3950\u001B[0m         \"\"\"\n\u001B[0;32m-> 3951\u001B[0;31m         \u001B[0m_openmm\u001B[0m\u001B[0;34m.\u001B[0m\u001B[0mContext_swiginit\u001B[0m\u001B[0;34m(\u001B[0m\u001B[0mself\u001B[0m\u001B[0;34m,\u001B[0m \u001B[0m_openmm\u001B[0m\u001B[0;34m.\u001B[0m\u001B[0mnew_Context\u001B[0m\u001B[0;34m(\u001B[0m\u001B[0;34m*\u001B[0m\u001B[0margs\u001B[0m\u001B[0;34m)\u001B[0m\u001B[0;34m)\u001B[0m\u001B[0;34m\u001B[0m\u001B[0;34m\u001B[0m\u001B[0m\n\u001B[0m\u001B[1;32m   3952\u001B[0m \u001B[0;34m\u001B[0m\u001B[0m\n\u001B[1;32m   3953\u001B[0m         \u001B[0mself\u001B[0m\u001B[0;34m.\u001B[0m\u001B[0m_system\u001B[0m \u001B[0;34m=\u001B[0m \u001B[0margs\u001B[0m\u001B[0;34m[\u001B[0m\u001B[0;36m0\u001B[0m\u001B[0;34m]\u001B[0m\u001B[0;34m\u001B[0m\u001B[0;34m\u001B[0m\u001B[0m\n",
      "\u001B[0;31mOpenMMException\u001B[0m: This Integrator is already bound to a context"
     ]
    }
   ],
   "source": [
    "simulation = openmm.app.Simulation(omm_top,system,integrator,platform)\n",
    "simulation.saveState('before')\n",
    "simulation.minimizeEnergy()\n",
    "simulation.saveState('after')"
   ],
   "metadata": {
    "collapsed": false,
    "pycharm": {
     "name": "#%%\n"
    }
   }
  },
  {
   "cell_type": "code",
   "execution_count": 60,
   "outputs": [
    {
     "ename": "IndexError",
     "evalue": "list index out of range",
     "output_type": "error",
     "traceback": [
      "\u001B[0;31m---------------------------------------------------------------------------\u001B[0m",
      "\u001B[0;31mIndexError\u001B[0m                                Traceback (most recent call last)",
      "\u001B[0;32m/tmp/ipykernel_21684/595967506.py\u001B[0m in \u001B[0;36m<module>\u001B[0;34m\u001B[0m\n\u001B[1;32m      1\u001B[0m \u001B[0;31m#Use openMM to construct topology from a mmCIF file\u001B[0m\u001B[0;34m\u001B[0m\u001B[0;34m\u001B[0m\u001B[0;34m\u001B[0m\u001B[0m\n\u001B[0;32m----> 2\u001B[0;31m \u001B[0momm\u001B[0m \u001B[0;34m=\u001B[0m \u001B[0mopenmm\u001B[0m\u001B[0;34m.\u001B[0m\u001B[0mapp\u001B[0m\u001B[0;34m.\u001B[0m\u001B[0mpdbxfile\u001B[0m\u001B[0;34m.\u001B[0m\u001B[0mPDBxFile\u001B[0m\u001B[0;34m(\u001B[0m\u001B[0;34m\"2107460.pdb\"\u001B[0m\u001B[0;34m)\u001B[0m\u001B[0;34m\u001B[0m\u001B[0;34m\u001B[0m\u001B[0m\n\u001B[0m\u001B[1;32m      3\u001B[0m \u001B[0mpos\u001B[0m \u001B[0;34m=\u001B[0m \u001B[0momm\u001B[0m\u001B[0;34m.\u001B[0m\u001B[0mgetPositions\u001B[0m\u001B[0;34m(\u001B[0m\u001B[0masNumpy\u001B[0m\u001B[0;34m=\u001B[0m\u001B[0;32mTrue\u001B[0m\u001B[0;34m)\u001B[0m\u001B[0;34m\u001B[0m\u001B[0;34m\u001B[0m\u001B[0m\n\u001B[1;32m      4\u001B[0m \u001B[0mtop\u001B[0m \u001B[0;34m=\u001B[0m \u001B[0momm\u001B[0m\u001B[0;34m.\u001B[0m\u001B[0mgetTopology\u001B[0m\u001B[0;34m(\u001B[0m\u001B[0;34m)\u001B[0m\u001B[0;34m\u001B[0m\u001B[0;34m\u001B[0m\u001B[0m\n\u001B[1;32m      5\u001B[0m \u001B[0mprint\u001B[0m\u001B[0;34m(\u001B[0m\u001B[0mtop\u001B[0m\u001B[0;34m)\u001B[0m\u001B[0;34m\u001B[0m\u001B[0;34m\u001B[0m\u001B[0m\n",
      "\u001B[0;32m~/anaconda3/envs/openFF/lib/python3.9/site-packages/openmm/app/pdbxfile.py\u001B[0m in \u001B[0;36m__init__\u001B[0;34m(self, file)\u001B[0m\n\u001B[1;32m     80\u001B[0m         \u001B[0;32mif\u001B[0m \u001B[0mownHandle\u001B[0m\u001B[0;34m:\u001B[0m\u001B[0;34m\u001B[0m\u001B[0;34m\u001B[0m\u001B[0m\n\u001B[1;32m     81\u001B[0m             \u001B[0minputFile\u001B[0m\u001B[0;34m.\u001B[0m\u001B[0mclose\u001B[0m\u001B[0;34m(\u001B[0m\u001B[0;34m)\u001B[0m\u001B[0;34m\u001B[0m\u001B[0;34m\u001B[0m\u001B[0m\n\u001B[0;32m---> 82\u001B[0;31m         \u001B[0mblock\u001B[0m \u001B[0;34m=\u001B[0m \u001B[0mdata\u001B[0m\u001B[0;34m[\u001B[0m\u001B[0;36m0\u001B[0m\u001B[0;34m]\u001B[0m\u001B[0;34m\u001B[0m\u001B[0;34m\u001B[0m\u001B[0m\n\u001B[0m\u001B[1;32m     83\u001B[0m \u001B[0;34m\u001B[0m\u001B[0m\n\u001B[1;32m     84\u001B[0m         \u001B[0;31m# Build the topology.\u001B[0m\u001B[0;34m\u001B[0m\u001B[0;34m\u001B[0m\u001B[0;34m\u001B[0m\u001B[0m\n",
      "\u001B[0;31mIndexError\u001B[0m: list index out of range"
     ]
    }
   ],
   "source": [
    "#Use openMM to construct topology from a pdbx file\n",
    "omm = openmm.app.pdbxfile.PDBxFile(\"2107460.pdb\")\n",
    "pos = omm.getPositions(asNumpy=True)\n",
    "top = omm.getTopology()\n",
    "print(top)\n",
    "print(pos)\n"
   ],
   "metadata": {
    "collapsed": false,
    "pycharm": {
     "name": "#%%\n"
    }
   }
  }
 ],
 "metadata": {
  "kernelspec": {
   "display_name": "Python 3",
   "language": "python",
   "name": "python3"
  },
  "language_info": {
   "codemirror_mode": {
    "name": "ipython",
    "version": 2
   },
   "file_extension": ".py",
   "mimetype": "text/x-python",
   "name": "python",
   "nbconvert_exporter": "python",
   "pygments_lexer": "ipython2",
   "version": "2.7.6"
  }
 },
 "nbformat": 4,
 "nbformat_minor": 0
}