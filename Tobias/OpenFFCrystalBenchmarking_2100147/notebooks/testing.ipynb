{
 "cells": [
  {
   "cell_type": "code",
   "execution_count": 61,
   "metadata": {},
   "outputs": [],
   "source": [
    "# Import Block\n",
    "import numpy as np\n",
    "from rdkit import Chem\n",
    "from openbabel import pybel\n",
    "from openff.toolkit.topology import Molecule,Topology\n",
    "from openff.toolkit.utils import RDKitToolkitWrapper\n",
    "import openmm\n",
    "from simtk.openmm import app\n",
    "from openmm import unit\n",
    "from openmm.app import PDBFile\n",
    "from openff.toolkit.typing.engines.smirnoff import ForceField\n",
    "from openmm.vec3 import Vec3\n",
    "from scipy.optimize import minimize,Bounds\n",
    "import warnings\n",
    "warnings.simplefilter(\"ignore\")\n"
   ]
  },
  {
   "cell_type": "code",
   "execution_count": 2,
   "metadata": {
    "pycharm": {
     "name": "#%%\n"
    }
   },
   "outputs": [],
   "source": [
    "# Wrapper and FF setup\n",
    "# Use RDKit wrapper\n",
    "rdktkw = RDKitToolkitWrapper()\n",
    "\n",
    "# Loading setup parameters\n",
    "forcefield = ForceField('openff-2.0.0.offxml')"
   ]
  },
  {
   "cell_type": "code",
   "execution_count": 3,
   "metadata": {
    "pycharm": {
     "name": "#%%\n"
    }
   },
   "outputs": [],
   "source": [
    "# load pdb with one copy of pdb file\n",
    "#off_mol = Molecule.from_pdb_and_smiles('7101899.pdb', \"CC1=CN=C(C(=C1OC)C)C[S@@](=O)C2=NC3=C(N2)C=C(C=C3)OC\")\n",
    "off_mol = Molecule.from_pdb_and_smiles('1100249.pdb', \"O=C1N([C@H]2C=C[C@@H]1[C@H]1C[C@@H]2C=C1)C(=O)O[C@H]1[C@@H](CC[C@H](C1)C)C(C)C\")\n",
    "\n"
   ]
  },
  {
   "cell_type": "code",
   "execution_count": 4,
   "metadata": {
    "pycharm": {
     "name": "#%%\n"
    }
   },
   "outputs": [
    {
     "name": "stderr",
     "output_type": "stream",
     "text": [
      "/bin/bash: /home/qualenal/anaconda3/envs/openFF/lib/libtinfo.so.6: no version information available (required by /bin/bash)\n",
      "/bin/bash: /home/qualenal/anaconda3/envs/openFF/lib/libtinfo.so.6: no version information available (required by /bin/bash)\n",
      "/bin/bash: /home/qualenal/anaconda3/envs/openFF/lib/libtinfo.so.6: no version information available (required by /bin/bash)\n",
      "/bin/bash: /home/qualenal/anaconda3/envs/openFF/lib/libtinfo.so.6: no version information available (required by /bin/bash)\n",
      "/bin/bash: /home/qualenal/anaconda3/envs/openFF/lib/libtinfo.so.6: no version information available (required by /bin/bash)\n",
      "/bin/bash: /home/qualenal/anaconda3/envs/openFF/lib/libtinfo.so.6: no version information available (required by /bin/bash)\n"
     ]
    }
   ],
   "source": [
    "# load supercell pdb file (2x2x2) into topology\n",
    "pdb_file = PDBFile('1100249_supercell.pdb')\n",
    "off_top = Topology.from_openmm(pdb_file.topology, [off_mol])\n",
    "# Create MD simulation inputs\n",
    "system = forcefield.create_openmm_system(off_top)\n",
    "integrator = openmm.VerletIntegrator(1*unit.femtoseconds)\n",
    "platform = openmm.Platform.getPlatformByName('Reference')"
   ]
  },
  {
   "cell_type": "code",
   "execution_count": 6,
   "outputs": [],
   "source": [
    "# create simulation\n",
    "simulation = openmm.app.Simulation(pdb_file.topology, system, integrator, platform)"
   ],
   "metadata": {
    "collapsed": false,
    "pycharm": {
     "name": "#%%\n"
    }
   }
  },
  {
   "cell_type": "code",
   "execution_count": 7,
   "outputs": [],
   "source": [
    "# set initial positions from pdbfile\n",
    "positions = pdb_file.getPositions()\n",
    "simulation.context.setPositions(positions)"
   ],
   "metadata": {
    "collapsed": false,
    "pycharm": {
     "name": "#%%\n"
    }
   }
  },
  {
   "cell_type": "code",
   "execution_count": 8,
   "metadata": {
    "pycharm": {
     "name": "#%%\n"
    }
   },
   "outputs": [],
   "source": [
    "# set reporters\n",
    "pdb_reporter = openmm.app.PDBReporter('trajectory.pdb', 1)\n",
    "state_data_reporter = openmm.app.StateDataReporter(\n",
    "    \"data.csv\",\n",
    "    1,\n",
    "    step=True,\n",
    "    potentialEnergy=True,\n",
    "    temperature=True,\n",
    "    density=True,\n",
    ")\n",
    "simulation.reporters.append(pdb_reporter)\n",
    "simulation.reporters.append(state_data_reporter)"
   ]
  },
  {
   "cell_type": "code",
   "execution_count": 9,
   "metadata": {
    "pycharm": {
     "name": "#%%\n"
    }
   },
   "outputs": [
    {
     "name": "stdout",
     "output_type": "stream",
     "text": [
      "Initial Energy 11890.525741791453 kJ/mol\n",
      "Minimizing Energy!\n",
      "Final Energy = 7801.333976616224 kJ/mol\n"
     ]
    }
   ],
   "source": [
    "simulation.context.setPositions(positions)\n",
    "simulation.saveState('initial')\n",
    "orig_potential = simulation.context.getState(getEnergy=True).getPotentialEnergy()\n",
    "#state_data_reporter.report(simulation, simulation.context.getState())\n",
    "print('Initial Energy ' + str(orig_potential))\n",
    "print('Minimizing Energy!')\n",
    "simulation.minimizeEnergy()\n",
    "min_state = simulation.context.getState(getEnergy=True, getPositions=True, getForces=True)\n",
    "min_potential = min_state.getPotentialEnergy()\n",
    "print('Final Energy = ' + str(min_potential))\n"
   ]
  },
  {
   "cell_type": "code",
   "execution_count": 15,
   "metadata": {
    "pycharm": {
     "name": "#%%\n"
    }
   },
   "outputs": [],
   "source": [
    "# try running a 0 step\n",
    "simulation.step(1)\n"
   ]
  },
  {
   "cell_type": "code",
   "execution_count": 16,
   "metadata": {
    "pycharm": {
     "name": "#%%\n"
    }
   },
   "outputs": [
    {
     "name": "stdout",
     "output_type": "stream",
     "text": [
      "0.014685853\n"
     ]
    }
   ],
   "source": [
    "import mdtraj\n",
    "\n",
    "initial = mdtraj.load_pdb('1100249_supercell.pdb')\n",
    "final = mdtraj.load_pdb('trajectory.pdb')\n",
    "rmsd = mdtraj.rmsd(initial,final)\n",
    "print(rmsd[0])"
   ]
  },
  {
   "cell_type": "code",
   "execution_count": 107,
   "outputs": [],
   "source": [
    "# Need block to feed parameters to minimizer, where forces provide 3*n derivatives of energy\n",
    "# wrt position, +3 more derivatives of energy wrt box vectors\n",
    "# This block is a work in progress\n",
    "\n",
    "def box_energy(x,*args):\n",
    "    # x is np array of 3*n(atoms) positional coordinates and 6 coordinates of 3 triclinical box vectors\n",
    "    # Return the energy of the system (in kJ/mol)\n",
    "    # *args will have the simulation context and n (number of particles)\n",
    "    context = args[0]\n",
    "    n = args[1]\n",
    "    # Build position array\n",
    "    positions_arr = np.empty([n,3])\n",
    "    for i in range(int(n)):\n",
    "        positions_arr[i][0] = x[i*3]\n",
    "        positions_arr[i][1] = x[i*3+1]\n",
    "        positions_arr[i][2] = x[i*3+2]\n",
    "    # Build periodic box vectors\n",
    "    a = np.array([x[n*3],0,0])\n",
    "    b = np.array([x[n*3+1],x[n*3+2],0])\n",
    "    c = np.array([x[n*3+3],x[n*3+4],x[n*3+5]])\n",
    "    # Set Context with positions and periodic boundary conditions\n",
    "    context.setPositions(positions_arr)\n",
    "    #print(positions_arr)\n",
    "    context.setPeriodicBoxVectors(a,b,c)\n",
    "    # Return Energy\n",
    "    energy = context.getState(getEnergy=True).getPotentialEnergy().value_in_unit(unit.kilojoule_per_mole)\n",
    "    return energy\n",
    "\n",
    "def jacobian(x,*args):\n",
    "    #must return a n*3 + 6 size vector with derivative of energy with respect to each input parameter\n",
    "    #for positions, return given forces\n",
    "    context = args[0]\n",
    "    n = args[1]\n",
    "\n",
    "    energy = context.getState(getEnergy=True).getPotentialEnergy().value_in_unit(unit.kilojoule_per_mole)\n",
    "    forces = -1*context.getState(getForces=True).getForces(asNumpy=True).value_in_unit(unit.kilojoule_per_mole/(unit.nano*unit.meter))\n",
    "    jac = forces.flatten()\n",
    "    # Positions\n",
    "    positions_arr = np.empty([n,3])\n",
    "    for i in range(int(n)):\n",
    "        positions_arr[i][:] = x[i*3:i*3+3]\n",
    "    context.setPositions(positions_arr)\n",
    "    # box vectors\n",
    "    a = np.array([x[n*3],0,0])\n",
    "    b = np.array([x[n*3+1],x[n*3+2],0])\n",
    "    c = np.array([x[n*3+3],x[n*3+4],x[n*3+5]])\n",
    "    epsilon = 1e-6\n",
    "    box_vectors = np.array([a,b,c])\n",
    "    frac_positions = np.matmul(np.linalg.inv(box_vectors),positions_arr.T).T\n",
    "\n",
    "    # a_x\n",
    "    temp_a_x = x[n*3] + epsilon\n",
    "    temp_box_vectors = np.array([np.array([temp_a_x,0,0]),b,c]) # Replace appropriate entry in box vectors\n",
    "    new_positions = np.matmul(temp_box_vectors,frac_positions.T).T # Transform frac coordiantes with new box vectors\n",
    "    temp_x = np.concatenate((new_positions.flatten(),[temp_a_x],x[n*3+1:n*3+6])) # build x array to feed to box_energy function with new box vector\n",
    "    new_energy = box_energy(temp_x,context,n) #compute new energy\n",
    "    grad_temp = (new_energy-energy)/epsilon # compute gradient\n",
    "    jac = np.append(jac,grad_temp) # append to jac\n",
    "\n",
    "    # b_x\n",
    "    temp_b_x = x[n*3+1] + epsilon\n",
    "    temp_box_vectors = np.array([a,np.array([temp_b_x,x[n*3+2],0]),c])\n",
    "    new_positions = np.matmul(temp_box_vectors,frac_positions.T).T\n",
    "    temp_x = np.concatenate((new_positions.flatten(),[x[n*3]],[temp_b_x],x[n*3+2:n*3+6]))\n",
    "    new_energy = box_energy(temp_x,context,n)\n",
    "    grad_temp = (new_energy-energy)/epsilon\n",
    "    jac = np.append(jac,grad_temp)\n",
    "\n",
    "    # b_y\n",
    "    temp_b_y = x[n*3+2] + epsilon\n",
    "    temp_box_vectors = np.array([a,np.array([x[n*3+1],temp_b_y,0]),c])\n",
    "    new_positions = np.matmul(temp_box_vectors,frac_positions.T).T\n",
    "    temp_x = np.concatenate((new_positions.flatten(),x[n*3:n*3+2],[temp_b_y],x[n*3+3:n*3+6]))\n",
    "    new_energy = box_energy(temp_x,context,n)\n",
    "    grad_temp = (new_energy-energy)/epsilon\n",
    "    jac = np.append(jac,grad_temp)\n",
    "\n",
    "    #c_x\n",
    "    temp_c_x = x[n*3+3] + epsilon\n",
    "    temp_box_vectors = np.array([a,b,np.array([temp_c_x,x[n*3+4],x[n*3+5]])])\n",
    "    new_positions = np.matmul(temp_box_vectors,frac_positions.T).T\n",
    "    temp_x = np.concatenate((new_positions.flatten(),x[n*3:n*3+3],[temp_c_x],x[n*3+4:n*3+6]))\n",
    "    new_energy = box_energy(temp_x,context,n)\n",
    "    grad_temp = (new_energy-energy)/epsilon\n",
    "    jac = np.append(jac,grad_temp)\n",
    "\n",
    "    #c_y\n",
    "    temp_c_y = x[n*3+4] + epsilon\n",
    "    temp_box_vectors = np.array([a,b,np.array([x[n*3+3],temp_c_y,x[n*3+5]])])\n",
    "    new_positions = np.matmul(temp_box_vectors,frac_positions.T).T\n",
    "    temp_x = np.concatenate((new_positions.flatten(),x[n*3:n*3+4],[temp_c_y],[x[n*3+5]]))\n",
    "    new_energy = box_energy(temp_x,context,n)\n",
    "    grad_temp = (new_energy-energy)/epsilon\n",
    "    jac = np.append(jac,grad_temp)\n",
    "\n",
    "    #c_z\n",
    "    temp_c_z = x[n*3+5] + epsilon\n",
    "    temp_box_vectors = np.array([a,b,np.array([x[n*3+3],x[n*3+4],temp_c_z])])\n",
    "    new_positions = np.matmul(temp_box_vectors,frac_positions.T).T\n",
    "    temp_x = np.concatenate((new_positions.flatten(),x[n*3:n*3+5],[temp_c_z]))\n",
    "    new_energy = box_energy(temp_x,context,n)\n",
    "    grad_temp = (new_energy-energy)/epsilon\n",
    "    jac = np.append(jac,grad_temp)\n",
    "\n",
    "    return jac\n",
    "\n",
    "def constraint_1(x,*args):\n",
    "    n=args[1]\n",
    "    return x[n*3] - 2*x[n*3+1]\n",
    "def constraint_2(x,*args):\n",
    "    n=args[1]\n",
    "    return x[n*3] - 2*x[n*3+3]\n",
    "def constraint_3(x,*args):\n",
    "    n=args[1]\n",
    "    return x[n*3+2] - 2*x[n*3+4]"
   ],
   "metadata": {
    "collapsed": false,
    "pycharm": {
     "name": "#%%\n"
    }
   }
  },
  {
   "cell_type": "code",
   "execution_count": 101,
   "outputs": [
    {
     "name": "stdout",
     "output_type": "stream",
     "text": [
      "[-3.20986505e+01  3.82252077e+00 -2.58769107e+01 ...  6.91562543e+10\n",
      " -2.17366842e+10  1.54618968e+10]\n",
      "12764246536.254883\n"
     ]
    }
   ],
   "source": [
    "# Dummy variables to test\n",
    "test_state = simulation.context.getState(getPositions=True)\n",
    "test_positions = test_state.getPositions(asNumpy=True)\n",
    "pdb_file.topology.getUnitCellDimensions()\n",
    "box_vectors = pdb_file.topology.getPeriodicBoxVectors()\n",
    "A= np.array(box_vectors.value_in_unit(unit.nano*unit.meter))\n",
    "x_test = test_positions.flatten()\n",
    "x_test = np.append(x_test,[A[0][0],A[1][0],A[1][1],A[2][0],A[2][1],A[2][2]])\n",
    "n_test = len(test_positions)\n",
    "test = jacobian(x_test,simulation.context,n_test)\n",
    "print(test)\n",
    "print(test[n_test*3])"
   ],
   "metadata": {
    "collapsed": false,
    "pycharm": {
     "name": "#%%\n"
    }
   }
  },
  {
   "cell_type": "code",
   "execution_count": 110,
   "outputs": [
    {
     "ename": "OpenMMException",
     "evalue": "Periodic box vectors must be in reduced form.",
     "output_type": "error",
     "traceback": [
      "\u001B[0;31m---------------------------------------------------------------------------\u001B[0m",
      "\u001B[0;31mOpenMMException\u001B[0m                           Traceback (most recent call last)",
      "\u001B[0;32m/tmp/ipykernel_26763/3113995056.py\u001B[0m in \u001B[0;36m<module>\u001B[0;34m\u001B[0m\n\u001B[1;32m      2\u001B[0m \u001B[0mlb\u001B[0m\u001B[0;34m[\u001B[0m\u001B[0mn_test\u001B[0m\u001B[0;34m*\u001B[0m\u001B[0;36m3\u001B[0m\u001B[0;34m:\u001B[0m\u001B[0mn_test\u001B[0m\u001B[0;34m*\u001B[0m\u001B[0;36m3\u001B[0m\u001B[0;34m+\u001B[0m\u001B[0;36m6\u001B[0m\u001B[0;34m]\u001B[0m \u001B[0;34m=\u001B[0m \u001B[0;34m[\u001B[0m\u001B[0;36m1.8\u001B[0m\u001B[0;34m,\u001B[0m\u001B[0;36m1.8\u001B[0m\u001B[0;34m,\u001B[0m\u001B[0;36m1.8\u001B[0m\u001B[0;34m,\u001B[0m\u001B[0;36m1.8\u001B[0m\u001B[0;34m,\u001B[0m\u001B[0;36m1.8\u001B[0m\u001B[0;34m,\u001B[0m\u001B[0;36m1.8\u001B[0m\u001B[0;34m]\u001B[0m\u001B[0;34m\u001B[0m\u001B[0;34m\u001B[0m\u001B[0m\n\u001B[1;32m      3\u001B[0m \u001B[0mbounds\u001B[0m \u001B[0;34m=\u001B[0m \u001B[0mBounds\u001B[0m\u001B[0;34m(\u001B[0m\u001B[0mlb\u001B[0m\u001B[0;34m=\u001B[0m\u001B[0mlb\u001B[0m\u001B[0;34m,\u001B[0m\u001B[0mub\u001B[0m\u001B[0;34m=\u001B[0m\u001B[0mnp\u001B[0m\u001B[0;34m.\u001B[0m\u001B[0minf\u001B[0m\u001B[0;34m,\u001B[0m\u001B[0mkeep_feasible\u001B[0m\u001B[0;34m=\u001B[0m\u001B[0;32mTrue\u001B[0m\u001B[0;34m)\u001B[0m\u001B[0;34m\u001B[0m\u001B[0;34m\u001B[0m\u001B[0m\n\u001B[0;32m----> 4\u001B[0;31m \u001B[0mresult\u001B[0m \u001B[0;34m=\u001B[0m \u001B[0mminimize\u001B[0m\u001B[0;34m(\u001B[0m\u001B[0mbox_energy\u001B[0m\u001B[0;34m,\u001B[0m\u001B[0mx_test\u001B[0m\u001B[0;34m,\u001B[0m\u001B[0;34m(\u001B[0m\u001B[0msimulation\u001B[0m\u001B[0;34m.\u001B[0m\u001B[0mcontext\u001B[0m\u001B[0;34m,\u001B[0m\u001B[0mn_test\u001B[0m\u001B[0;34m)\u001B[0m\u001B[0;34m,\u001B[0m\u001B[0mmethod\u001B[0m\u001B[0;34m=\u001B[0m\u001B[0;34m'L-BFGS-B'\u001B[0m\u001B[0;34m,\u001B[0m\u001B[0mjac\u001B[0m\u001B[0;34m=\u001B[0m\u001B[0mjacobian\u001B[0m\u001B[0;34m,\u001B[0m\u001B[0mbounds\u001B[0m\u001B[0;34m=\u001B[0m\u001B[0mbounds\u001B[0m\u001B[0;34m,\u001B[0m\u001B[0mconstraints\u001B[0m\u001B[0;34m=\u001B[0m\u001B[0;34m[\u001B[0m\u001B[0;34m{\u001B[0m\u001B[0;34m'type'\u001B[0m\u001B[0;34m:\u001B[0m\u001B[0;34m'ineq'\u001B[0m\u001B[0;34m,\u001B[0m\u001B[0;34m'fun'\u001B[0m\u001B[0;34m:\u001B[0m\u001B[0mconstraint_1\u001B[0m\u001B[0;34m}\u001B[0m\u001B[0;34m,\u001B[0m\u001B[0;34m{\u001B[0m\u001B[0;34m'type'\u001B[0m\u001B[0;34m:\u001B[0m\u001B[0;34m'ineq'\u001B[0m\u001B[0;34m,\u001B[0m\u001B[0;34m'fun'\u001B[0m\u001B[0;34m:\u001B[0m\u001B[0mconstraint_2\u001B[0m\u001B[0;34m}\u001B[0m\u001B[0;34m,\u001B[0m\u001B[0;34m{\u001B[0m\u001B[0;34m'type'\u001B[0m\u001B[0;34m:\u001B[0m\u001B[0;34m'ineq'\u001B[0m\u001B[0;34m,\u001B[0m\u001B[0;34m'fun'\u001B[0m\u001B[0;34m:\u001B[0m\u001B[0mconstraint_3\u001B[0m\u001B[0;34m}\u001B[0m\u001B[0;34m]\u001B[0m\u001B[0;34m,\u001B[0m\u001B[0moptions\u001B[0m\u001B[0;34m=\u001B[0m\u001B[0;34m{\u001B[0m\u001B[0;34m'maxiter'\u001B[0m\u001B[0;34m:\u001B[0m \u001B[0;36m1000\u001B[0m\u001B[0;34m}\u001B[0m\u001B[0;34m)\u001B[0m\u001B[0;34m\u001B[0m\u001B[0;34m\u001B[0m\u001B[0m\n\u001B[0m\u001B[1;32m      5\u001B[0m \u001B[0mprint\u001B[0m\u001B[0;34m(\u001B[0m\u001B[0mresult\u001B[0m\u001B[0;34m)\u001B[0m\u001B[0;34m\u001B[0m\u001B[0;34m\u001B[0m\u001B[0m\n\u001B[1;32m      6\u001B[0m \u001B[0mprint\u001B[0m\u001B[0;34m(\u001B[0m\u001B[0mresult\u001B[0m\u001B[0;34m.\u001B[0m\u001B[0mx\u001B[0m\u001B[0;34m-\u001B[0m\u001B[0mx_test\u001B[0m\u001B[0;34m)\u001B[0m\u001B[0;34m\u001B[0m\u001B[0;34m\u001B[0m\u001B[0m\n",
      "\u001B[0;32m~/anaconda3/envs/openFF/lib/python3.9/site-packages/scipy/optimize/_minimize.py\u001B[0m in \u001B[0;36mminimize\u001B[0;34m(fun, x0, args, method, jac, hess, hessp, bounds, constraints, tol, callback, options)\u001B[0m\n\u001B[1;32m    621\u001B[0m                                   **options)\n\u001B[1;32m    622\u001B[0m     \u001B[0;32melif\u001B[0m \u001B[0mmeth\u001B[0m \u001B[0;34m==\u001B[0m \u001B[0;34m'l-bfgs-b'\u001B[0m\u001B[0;34m:\u001B[0m\u001B[0;34m\u001B[0m\u001B[0;34m\u001B[0m\u001B[0m\n\u001B[0;32m--> 623\u001B[0;31m         return _minimize_lbfgsb(fun, x0, args, jac, bounds,\n\u001B[0m\u001B[1;32m    624\u001B[0m                                 callback=callback, **options)\n\u001B[1;32m    625\u001B[0m     \u001B[0;32melif\u001B[0m \u001B[0mmeth\u001B[0m \u001B[0;34m==\u001B[0m \u001B[0;34m'tnc'\u001B[0m\u001B[0;34m:\u001B[0m\u001B[0;34m\u001B[0m\u001B[0;34m\u001B[0m\u001B[0m\n",
      "\u001B[0;32m~/anaconda3/envs/openFF/lib/python3.9/site-packages/scipy/optimize/lbfgsb.py\u001B[0m in \u001B[0;36m_minimize_lbfgsb\u001B[0;34m(fun, x0, args, jac, bounds, disp, maxcor, ftol, gtol, eps, maxfun, maxiter, iprint, callback, maxls, finite_diff_rel_step, **unknown_options)\u001B[0m\n\u001B[1;32m    304\u001B[0m             \u001B[0miprint\u001B[0m \u001B[0;34m=\u001B[0m \u001B[0mdisp\u001B[0m\u001B[0;34m\u001B[0m\u001B[0;34m\u001B[0m\u001B[0m\n\u001B[1;32m    305\u001B[0m \u001B[0;34m\u001B[0m\u001B[0m\n\u001B[0;32m--> 306\u001B[0;31m     sf = _prepare_scalar_function(fun, x0, jac=jac, args=args, epsilon=eps,\n\u001B[0m\u001B[1;32m    307\u001B[0m                                   \u001B[0mbounds\u001B[0m\u001B[0;34m=\u001B[0m\u001B[0mnew_bounds\u001B[0m\u001B[0;34m,\u001B[0m\u001B[0;34m\u001B[0m\u001B[0;34m\u001B[0m\u001B[0m\n\u001B[1;32m    308\u001B[0m                                   finite_diff_rel_step=finite_diff_rel_step)\n",
      "\u001B[0;32m~/anaconda3/envs/openFF/lib/python3.9/site-packages/scipy/optimize/optimize.py\u001B[0m in \u001B[0;36m_prepare_scalar_function\u001B[0;34m(fun, x0, jac, args, bounds, epsilon, finite_diff_rel_step, hess)\u001B[0m\n\u001B[1;32m    259\u001B[0m     \u001B[0;31m# ScalarFunction caches. Reuse of fun(x) during grad\u001B[0m\u001B[0;34m\u001B[0m\u001B[0;34m\u001B[0m\u001B[0;34m\u001B[0m\u001B[0m\n\u001B[1;32m    260\u001B[0m     \u001B[0;31m# calculation reduces overall function evaluations.\u001B[0m\u001B[0;34m\u001B[0m\u001B[0;34m\u001B[0m\u001B[0;34m\u001B[0m\u001B[0m\n\u001B[0;32m--> 261\u001B[0;31m     sf = ScalarFunction(fun, x0, args, grad, hess,\n\u001B[0m\u001B[1;32m    262\u001B[0m                         finite_diff_rel_step, bounds, epsilon=epsilon)\n\u001B[1;32m    263\u001B[0m \u001B[0;34m\u001B[0m\u001B[0m\n",
      "\u001B[0;32m~/anaconda3/envs/openFF/lib/python3.9/site-packages/scipy/optimize/_differentiable_functions.py\u001B[0m in \u001B[0;36m__init__\u001B[0;34m(self, fun, x0, args, grad, hess, finite_diff_rel_step, finite_diff_bounds, epsilon)\u001B[0m\n\u001B[1;32m    138\u001B[0m \u001B[0;34m\u001B[0m\u001B[0m\n\u001B[1;32m    139\u001B[0m         \u001B[0mself\u001B[0m\u001B[0;34m.\u001B[0m\u001B[0m_update_fun_impl\u001B[0m \u001B[0;34m=\u001B[0m \u001B[0mupdate_fun\u001B[0m\u001B[0;34m\u001B[0m\u001B[0;34m\u001B[0m\u001B[0m\n\u001B[0;32m--> 140\u001B[0;31m         \u001B[0mself\u001B[0m\u001B[0;34m.\u001B[0m\u001B[0m_update_fun\u001B[0m\u001B[0;34m(\u001B[0m\u001B[0;34m)\u001B[0m\u001B[0;34m\u001B[0m\u001B[0;34m\u001B[0m\u001B[0m\n\u001B[0m\u001B[1;32m    141\u001B[0m \u001B[0;34m\u001B[0m\u001B[0m\n\u001B[1;32m    142\u001B[0m         \u001B[0;31m# Gradient evaluation\u001B[0m\u001B[0;34m\u001B[0m\u001B[0;34m\u001B[0m\u001B[0;34m\u001B[0m\u001B[0m\n",
      "\u001B[0;32m~/anaconda3/envs/openFF/lib/python3.9/site-packages/scipy/optimize/_differentiable_functions.py\u001B[0m in \u001B[0;36m_update_fun\u001B[0;34m(self)\u001B[0m\n\u001B[1;32m    231\u001B[0m     \u001B[0;32mdef\u001B[0m \u001B[0m_update_fun\u001B[0m\u001B[0;34m(\u001B[0m\u001B[0mself\u001B[0m\u001B[0;34m)\u001B[0m\u001B[0;34m:\u001B[0m\u001B[0;34m\u001B[0m\u001B[0;34m\u001B[0m\u001B[0m\n\u001B[1;32m    232\u001B[0m         \u001B[0;32mif\u001B[0m \u001B[0;32mnot\u001B[0m \u001B[0mself\u001B[0m\u001B[0;34m.\u001B[0m\u001B[0mf_updated\u001B[0m\u001B[0;34m:\u001B[0m\u001B[0;34m\u001B[0m\u001B[0;34m\u001B[0m\u001B[0m\n\u001B[0;32m--> 233\u001B[0;31m             \u001B[0mself\u001B[0m\u001B[0;34m.\u001B[0m\u001B[0m_update_fun_impl\u001B[0m\u001B[0;34m(\u001B[0m\u001B[0;34m)\u001B[0m\u001B[0;34m\u001B[0m\u001B[0;34m\u001B[0m\u001B[0m\n\u001B[0m\u001B[1;32m    234\u001B[0m             \u001B[0mself\u001B[0m\u001B[0;34m.\u001B[0m\u001B[0mf_updated\u001B[0m \u001B[0;34m=\u001B[0m \u001B[0;32mTrue\u001B[0m\u001B[0;34m\u001B[0m\u001B[0;34m\u001B[0m\u001B[0m\n\u001B[1;32m    235\u001B[0m \u001B[0;34m\u001B[0m\u001B[0m\n",
      "\u001B[0;32m~/anaconda3/envs/openFF/lib/python3.9/site-packages/scipy/optimize/_differentiable_functions.py\u001B[0m in \u001B[0;36mupdate_fun\u001B[0;34m()\u001B[0m\n\u001B[1;32m    135\u001B[0m \u001B[0;34m\u001B[0m\u001B[0m\n\u001B[1;32m    136\u001B[0m         \u001B[0;32mdef\u001B[0m \u001B[0mupdate_fun\u001B[0m\u001B[0;34m(\u001B[0m\u001B[0;34m)\u001B[0m\u001B[0;34m:\u001B[0m\u001B[0;34m\u001B[0m\u001B[0;34m\u001B[0m\u001B[0m\n\u001B[0;32m--> 137\u001B[0;31m             \u001B[0mself\u001B[0m\u001B[0;34m.\u001B[0m\u001B[0mf\u001B[0m \u001B[0;34m=\u001B[0m \u001B[0mfun_wrapped\u001B[0m\u001B[0;34m(\u001B[0m\u001B[0mself\u001B[0m\u001B[0;34m.\u001B[0m\u001B[0mx\u001B[0m\u001B[0;34m)\u001B[0m\u001B[0;34m\u001B[0m\u001B[0;34m\u001B[0m\u001B[0m\n\u001B[0m\u001B[1;32m    138\u001B[0m \u001B[0;34m\u001B[0m\u001B[0m\n\u001B[1;32m    139\u001B[0m         \u001B[0mself\u001B[0m\u001B[0;34m.\u001B[0m\u001B[0m_update_fun_impl\u001B[0m \u001B[0;34m=\u001B[0m \u001B[0mupdate_fun\u001B[0m\u001B[0;34m\u001B[0m\u001B[0;34m\u001B[0m\u001B[0m\n",
      "\u001B[0;32m~/anaconda3/envs/openFF/lib/python3.9/site-packages/scipy/optimize/_differentiable_functions.py\u001B[0m in \u001B[0;36mfun_wrapped\u001B[0;34m(x)\u001B[0m\n\u001B[1;32m    132\u001B[0m             \u001B[0;31m# Overwriting results in undefined behaviour because\u001B[0m\u001B[0;34m\u001B[0m\u001B[0;34m\u001B[0m\u001B[0;34m\u001B[0m\u001B[0m\n\u001B[1;32m    133\u001B[0m             \u001B[0;31m# fun(self.x) will change self.x, with the two no longer linked.\u001B[0m\u001B[0;34m\u001B[0m\u001B[0;34m\u001B[0m\u001B[0;34m\u001B[0m\u001B[0m\n\u001B[0;32m--> 134\u001B[0;31m             \u001B[0;32mreturn\u001B[0m \u001B[0mfun\u001B[0m\u001B[0;34m(\u001B[0m\u001B[0mnp\u001B[0m\u001B[0;34m.\u001B[0m\u001B[0mcopy\u001B[0m\u001B[0;34m(\u001B[0m\u001B[0mx\u001B[0m\u001B[0;34m)\u001B[0m\u001B[0;34m,\u001B[0m \u001B[0;34m*\u001B[0m\u001B[0margs\u001B[0m\u001B[0;34m)\u001B[0m\u001B[0;34m\u001B[0m\u001B[0;34m\u001B[0m\u001B[0m\n\u001B[0m\u001B[1;32m    135\u001B[0m \u001B[0;34m\u001B[0m\u001B[0m\n\u001B[1;32m    136\u001B[0m         \u001B[0;32mdef\u001B[0m \u001B[0mupdate_fun\u001B[0m\u001B[0;34m(\u001B[0m\u001B[0;34m)\u001B[0m\u001B[0;34m:\u001B[0m\u001B[0;34m\u001B[0m\u001B[0;34m\u001B[0m\u001B[0m\n",
      "\u001B[0;32m/tmp/ipykernel_26763/4247371280.py\u001B[0m in \u001B[0;36mbox_energy\u001B[0;34m(x, *args)\u001B[0m\n\u001B[1;32m     22\u001B[0m     \u001B[0mcontext\u001B[0m\u001B[0;34m.\u001B[0m\u001B[0msetPositions\u001B[0m\u001B[0;34m(\u001B[0m\u001B[0mpositions_arr\u001B[0m\u001B[0;34m)\u001B[0m\u001B[0;34m\u001B[0m\u001B[0;34m\u001B[0m\u001B[0m\n\u001B[1;32m     23\u001B[0m     \u001B[0;31m#print(positions_arr)\u001B[0m\u001B[0;34m\u001B[0m\u001B[0;34m\u001B[0m\u001B[0;34m\u001B[0m\u001B[0m\n\u001B[0;32m---> 24\u001B[0;31m     \u001B[0mcontext\u001B[0m\u001B[0;34m.\u001B[0m\u001B[0msetPeriodicBoxVectors\u001B[0m\u001B[0;34m(\u001B[0m\u001B[0ma\u001B[0m\u001B[0;34m,\u001B[0m\u001B[0mb\u001B[0m\u001B[0;34m,\u001B[0m\u001B[0mc\u001B[0m\u001B[0;34m)\u001B[0m\u001B[0;34m\u001B[0m\u001B[0;34m\u001B[0m\u001B[0m\n\u001B[0m\u001B[1;32m     25\u001B[0m     \u001B[0;31m# Return Energy\u001B[0m\u001B[0;34m\u001B[0m\u001B[0;34m\u001B[0m\u001B[0;34m\u001B[0m\u001B[0m\n\u001B[1;32m     26\u001B[0m     \u001B[0menergy\u001B[0m \u001B[0;34m=\u001B[0m \u001B[0mcontext\u001B[0m\u001B[0;34m.\u001B[0m\u001B[0mgetState\u001B[0m\u001B[0;34m(\u001B[0m\u001B[0mgetEnergy\u001B[0m\u001B[0;34m=\u001B[0m\u001B[0;32mTrue\u001B[0m\u001B[0;34m)\u001B[0m\u001B[0;34m.\u001B[0m\u001B[0mgetPotentialEnergy\u001B[0m\u001B[0;34m(\u001B[0m\u001B[0;34m)\u001B[0m\u001B[0;34m.\u001B[0m\u001B[0mvalue_in_unit\u001B[0m\u001B[0;34m(\u001B[0m\u001B[0munit\u001B[0m\u001B[0;34m.\u001B[0m\u001B[0mkilojoule_per_mole\u001B[0m\u001B[0;34m)\u001B[0m\u001B[0;34m\u001B[0m\u001B[0;34m\u001B[0m\u001B[0m\n",
      "\u001B[0;32m~/anaconda3/envs/openFF/lib/python3.9/site-packages/openmm/openmm.py\u001B[0m in \u001B[0;36msetPeriodicBoxVectors\u001B[0;34m(self, a, b, c)\u001B[0m\n\u001B[1;32m   3772\u001B[0m \u001B[0;34m\u001B[0m\u001B[0m\n\u001B[1;32m   3773\u001B[0m \u001B[0;34m\u001B[0m\u001B[0m\n\u001B[0;32m-> 3774\u001B[0;31m         \u001B[0;32mreturn\u001B[0m \u001B[0m_openmm\u001B[0m\u001B[0;34m.\u001B[0m\u001B[0mContext_setPeriodicBoxVectors\u001B[0m\u001B[0;34m(\u001B[0m\u001B[0mself\u001B[0m\u001B[0;34m,\u001B[0m \u001B[0ma\u001B[0m\u001B[0;34m,\u001B[0m \u001B[0mb\u001B[0m\u001B[0;34m,\u001B[0m \u001B[0mc\u001B[0m\u001B[0;34m)\u001B[0m\u001B[0;34m\u001B[0m\u001B[0;34m\u001B[0m\u001B[0m\n\u001B[0m\u001B[1;32m   3775\u001B[0m \u001B[0;34m\u001B[0m\u001B[0m\n\u001B[1;32m   3776\u001B[0m \u001B[0;34m\u001B[0m\u001B[0m\n",
      "\u001B[0;31mOpenMMException\u001B[0m: Periodic box vectors must be in reduced form."
     ]
    }
   ],
   "source": [
    "lb = -100*np.ones(n_test*3+6)\n",
    "lb[n_test*3:n_test*3+6] = [1.8,1.8,1.8,1.8,1.8,1.8]\n",
    "bounds = Bounds(lb=lb,ub=np.inf,keep_feasible=True)\n",
    "result = minimize(box_energy,x_test,(simulation.context,n_test),method='L-BFGS-B',jac=jacobian,bounds=bounds,constraints=[{'type':'ineq','fun':constraint_1},{'type':'ineq','fun':constraint_2},{'type':'ineq','fun':constraint_3}],options={'maxiter': 1000})\n",
    "print(result)\n",
    "print(result.x-x_test)\n"
   ],
   "metadata": {
    "collapsed": false,
    "pycharm": {
     "name": "#%%\n"
    }
   }
  },
  {
   "cell_type": "code",
   "execution_count": 95,
   "outputs": [
    {
     "name": "stdout",
     "output_type": "stream",
     "text": [
      "[[2.1786 0.     0.    ]\n",
      " [0.     2.5623 0.    ]\n",
      " [0.     0.     3.0468]]\n",
      "[3.60000000e+00 1.87390931e-03 2.55855664e+00 1.12969312e-03\n",
      " 2.96366753e-03 3.04067755e+00]\n",
      "[ 1.42140000e+00  1.87390931e-03 -3.74336035e-03  1.12969312e-03\n",
      "  2.96366753e-03 -6.12245413e-03]\n"
     ]
    }
   ],
   "source": [
    "# Example for tranformation of cartesian coordinates to fractional\n",
    "pdb_file.topology.getUnitCellDimensions()\n",
    "box_vectors = pdb_file.topology.getPeriodicBoxVectors()\n",
    "A= np.array(box_vectors.value_in_unit(unit.nano*unit.meter))\n",
    "print(A)\n",
    "A_inv = np.linalg.inv(A)\n",
    "x = np.array([[1.2,1.2,1.2],[1.5,1.5,1.5]])\n",
    "y = np.matmul(A_inv,x.T).T\n",
    "A[1][1] = A[1][1]*1.1\n",
    "y_modified = np.matmul(A,y.T).T\n",
    "print(result.x[n_test*3:n_test*3+6])\n",
    "print(result.x[n_test*3:n_test*3+6]-x_test[n_test*3:n_test*3+6])"
   ],
   "metadata": {
    "collapsed": false,
    "pycharm": {
     "name": "#%%\n"
    }
   }
  },
  {
   "cell_type": "code",
   "execution_count": null,
   "outputs": [],
   "source": [
    "positions = min_state.getPositions(asNumpy=True)\n",
    "positions = positions.value_in_unit(unit.nano*unit.meter)\n",
    "forces = min_state.getForces(asNumpy=True).value_in_unit(unit.kilojoule_per_mole/(unit.nano*unit.meter))\n",
    "print(forces)\n",
    "frac_positions = np.matmul(A_inv,positions.T).T\n",
    "print(positions)\n"
   ],
   "metadata": {
    "collapsed": false,
    "pycharm": {
     "name": "#%%\n"
    }
   }
  },
  {
   "cell_type": "code",
   "execution_count": null,
   "outputs": [],
   "source": [
    "print(box_vectors)\n",
    "box_vector_array = np.array(box_vectors.value_in_unit(unit.nano*unit.meter)).flatten()\n",
    "print(box_vector_array)\n",
    "box_vector_array = np.delete(box_vector_array,[1,2,5]) #a_x,b_x,b_y,c_x,c_y,c_z\n",
    "print(box_vector_array)\n",
    "print(len(positions)/3)\n"
   ],
   "metadata": {
    "collapsed": false,
    "pycharm": {
     "name": "#%%\n"
    }
   }
  }
 ],
 "metadata": {
  "kernelspec": {
   "display_name": "PyCharm (openff-toolkit)",
   "language": "python",
   "name": "pycharm-de0ca6a1"
  },
  "language_info": {
   "codemirror_mode": {
    "name": "ipython",
    "version": 3
   },
   "file_extension": ".py",
   "mimetype": "text/x-python",
   "name": "python",
   "nbconvert_exporter": "python",
   "pygments_lexer": "ipython3",
   "version": "3.9.6"
  }
 },
 "nbformat": 4,
 "nbformat_minor": 1
}