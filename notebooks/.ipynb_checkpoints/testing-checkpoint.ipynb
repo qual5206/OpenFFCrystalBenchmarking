{
 "cells": [
  {
   "cell_type": "code",
   "execution_count": 1,
   "metadata": {},
   "outputs": [
    {
     "name": "stderr",
     "output_type": "stream",
     "text": [
      "Warning: importing 'simtk.openmm' is deprecated.  Import 'openmm' instead.\n",
      "Warning: Unable to load toolkit 'OpenEye Toolkit'. The Open Force Field Toolkit does not require the OpenEye Toolkits, and can use RDKit/AmberTools instead. However, if you have a valid license for the OpenEye Toolkits, consider installing them for faster performance and additional file format support: https://docs.eyesopen.com/toolkits/python/quickstart-python/linuxosx.html OpenEye offers free Toolkit licenses for academics: https://www.eyesopen.com/academic-licensing\n"
     ]
    }
   ],
   "source": [
    "# Import Block\n",
    "import numpy as np\n",
    "from rdkit import Chem\n",
    "from openbabel import pybel\n",
    "from openff.toolkit.topology import Molecule,Topology\n",
    "from openff.toolkit.utils import RDKitToolkitWrapper\n",
    "import openmm\n",
    "from simtk.openmm import app\n",
    "from openmm import unit\n",
    "from openmm.app import PDBFile\n",
    "from openff.toolkit.typing.engines.smirnoff import ForceField\n",
    "from openmm.vec3 import Vec3\n",
    "import warnings\n",
    "warnings.simplefilter(\"ignore\")\n"
   ]
  },
  {
   "cell_type": "code",
   "execution_count": 2,
   "metadata": {
    "pycharm": {
     "name": "#%%\n"
    }
   },
   "outputs": [],
   "source": [
    "# Wrapper and FF setup\n",
    "# Use RDKit wrapper\n",
    "rdktkw = RDKitToolkitWrapper()\n",
    "\n",
    "# Loading setup parameters\n",
    "forcefield = ForceField('openff-2.0.0.offxml')"
   ]
  },
  {
   "cell_type": "code",
   "execution_count": null,
   "metadata": {
    "pycharm": {
     "name": "#%%\n"
    }
   },
   "outputs": [
    {
     "name": "stderr",
     "output_type": "stream",
     "text": [
      "/bin/bash: /home/qualenal/anaconda3/envs/openFF/lib/libtinfo.so.6: no version information available (required by /bin/bash)\n",
      "/bin/bash: /home/qualenal/anaconda3/envs/openFF/lib/libtinfo.so.6: no version information available (required by /bin/bash)\n"
     ]
    }
   ],
   "source": [
    "# load pdb with one copy of pdb file\n",
    "off_mol = Molecule.from_pdb_and_smiles('7101899.pdb', \"CC1=CN=C(C(=C1OC)C)C[S@@](=O)C2=NC3=C(N2)C=C(C=C3)OC\")\n",
    "# load supercell pdb file (2x2x2) into topology\n",
    "pdb_file = PDBFile('7101899_supercell.pdb')\n",
    "off_top = Topology.from_openmm(pdb_file.topology, [off_mol])\n",
    "# Create MD simulation inputs\n",
    "system = forcefield.create_openmm_system(off_top)\n",
    "integrator = openmm.VerletIntegrator(1*unit.femtoseconds)\n",
    "platform = openmm.Platform.getPlatformByName('Reference')"
   ]
  },
  {
   "cell_type": "code",
   "execution_count": 6,
   "metadata": {
    "pycharm": {
     "name": "#%%\n"
    }
   },
   "outputs": [],
   "source": [
    "# create simulation\n",
    "simulation = openmm.app.Simulation(pdb_file.topology, system, integrator, platform)\n",
    "# set initial positions from pdbfile\n",
    "positions = pdb_file.getPositions()\n",
    "simulation.context.setPositions(positions)"
   ]
  },
  {
   "cell_type": "code",
   "execution_count": 7,
   "metadata": {
    "pycharm": {
     "name": "#%%\n"
    }
   },
   "outputs": [],
   "source": [
    "# set reporters\n",
    "pdb_reporter = openmm.app.PDBReporter('trajectory.pdb', 1)\n",
    "state_data_reporter = openmm.app.StateDataReporter(\n",
    "    \"data.csv\",\n",
    "    1,\n",
    "    step=True,\n",
    "    potentialEnergy=True,\n",
    "    temperature=True,\n",
    "    density=True,\n",
    ")\n",
    "simulation.reporters.append(pdb_reporter)\n",
    "simulation.reporters.append(state_data_reporter)"
   ]
  },
  {
   "cell_type": "code",
   "execution_count": 9,
   "metadata": {
    "pycharm": {
     "name": "#%%\n"
    }
   },
   "outputs": [
    {
     "name": "stdout",
     "output_type": "stream",
     "text": [
      "Initial Energy -931.3906652489786 kJ/mol\n",
      "Minimizing Energy!\n",
      "Final Energy = -1599.1222307494227 kJ/mol\n"
     ]
    }
   ],
   "source": [
    "simulation.context.setPositions(positions)\n",
    "simulation.saveState('initial')\n",
    "orig_potential = simulation.context.getState(getEnergy=True).getPotentialEnergy()\n",
    "#state_data_reporter.report(simulation, simulation.context.getState())\n",
    "print('Initial Energy ' + str(orig_potential))\n",
    "print('Minimizing Energy!')\n",
    "simulation.minimizeEnergy()\n",
    "min_state = simulation.context.getState(getEnergy=True, getPositions=True, getForces=True)\n",
    "min_potential = min_state.getPotentialEnergy()\n",
    "print('Final Energy = ' + str(min_potential))"
   ]
  },
  {
   "cell_type": "code",
   "execution_count": 8,
   "metadata": {
    "pycharm": {
     "name": "#%%\n"
    }
   },
   "outputs": [
    {
     "name": "stdout",
     "output_type": "stream",
     "text": [
      "True\n",
      "[<openmm.openmm.PeriodicTorsionForce; proxy of <Swig Object of type 'OpenMM::PeriodicTorsionForce *' at 0x7f2b818786f0> >, <openmm.openmm.NonbondedForce; proxy of <Swig Object of type 'OpenMM::NonbondedForce *' at 0x7f2b81878480> >, <openmm.openmm.HarmonicBondForce; proxy of <Swig Object of type 'OpenMM::HarmonicBondForce *' at 0x7f2b81878300> >, <openmm.openmm.HarmonicAngleForce; proxy of <Swig Object of type 'OpenMM::HarmonicAngleForce *' at 0x7f2b818787e0> >]\n"
     ]
    }
   ],
   "source": [
    "# Report if system uses periodic boundary conditions and forces used\n",
    "print(simulation.system.usesPeriodicBoundaryConditions())\n",
    "print(simulation.system.getForces())"
   ]
  },
  {
   "cell_type": "code",
   "execution_count": 10,
   "metadata": {
    "pycharm": {
     "name": "#%%\n"
    }
   },
   "outputs": [],
   "source": [
    "simulation.step(1)\n"
   ]
  },
  {
   "cell_type": "code",
   "execution_count": null,
   "metadata": {
    "pycharm": {
     "name": "#%%\n"
    }
   },
   "outputs": [],
   "source": [
    "import mdtraj\n",
    "\n",
    "initial = mdtraj.load_pdb('7101899_supercell.pdb')\n",
    "final = mdtraj.load_pdb('trajectory.pdb')\n",
    "rmsd = mdtraj.rmsd(initial,final)\n",
    "print(rmsd[0])"
   ]
  },
  {
   "cell_type": "code",
   "execution_count": null,
   "metadata": {
    "pycharm": {
     "name": "#%%\n"
    }
   },
   "outputs": [],
   "source": [
    "pdb_file.topology.getUnitCellDimensions()\n"
   ]
  },
  {
   "cell_type": "code",
   "execution_count": null,
   "metadata": {
    "pycharm": {
     "name": "#%%\n"
    }
   },
   "outputs": [],
   "source": [
    "# Need block to feed parameters to minimizer, where forces provide 3*n derivatives of energy\n",
    "# wrt position, +3 more derivatives of energy wrt box vectors\n",
    "# This block is a work in progress\n",
    "forces = simulation.context.getState(getForces=True).getForces()\n",
    "p_box_pos = simulation.context.getState(getPositions=True, enforcePeriodicBox=True).getPositions()\n",
    "\n",
    "x0 = np.array([2,0,2,0,0,2]) # a_x, b_x, b_y, c_x, c_y, c_z\n",
    "def box_energy(sim,x,positions):\n",
    "    # x will be np array of all inputs\n",
    "    sim.system.setDefaultPeriodicBoxVectors(Vec3(x[0],0,0),Vec3(x[1],x[2],0),Vec3(x[3],x[4],x[5]))\n",
    "    print(sim.system.getForces())\n",
    "    new_integrator = openmm.VerletIntegrator(1*unit.femtoseconds)\n",
    "    new_sim = openmm.app.Simulation(pdb_file.topology, system, new_integrator, platform)\n",
    "    new_sim.context.setPositions(positions)\n",
    "    return new_sim.context.getState(getEnergy=True).getPotentialEnergy()\n",
    "energy = box_energy(simulation,x0,positions)\n",
    "print(energy)\n",
    "#print(forces)"
   ]
  }
 ],
 "metadata": {
  "kernelspec": {
   "display_name": "PyCharm (openff-toolkit)",
   "language": "python",
   "name": "pycharm-de0ca6a1"
  },
  "language_info": {
   "codemirror_mode": {
    "name": "ipython",
    "version": 3
   },
   "file_extension": ".py",
   "mimetype": "text/x-python",
   "name": "python",
   "nbconvert_exporter": "python",
   "pygments_lexer": "ipython3",
   "version": "3.9.6"
  }
 },
 "nbformat": 4,
 "nbformat_minor": 1
}
