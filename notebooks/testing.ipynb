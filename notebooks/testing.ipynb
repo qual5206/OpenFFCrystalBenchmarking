{
 "cells": [
  {
   "cell_type": "code",
   "execution_count": 1,
   "metadata": {},
   "outputs": [
    {
     "name": "stderr",
     "output_type": "stream",
     "text": [
      "Warning: importing 'simtk.openmm' is deprecated.  Import 'openmm' instead.\n",
      "Warning: Unable to load toolkit 'OpenEye Toolkit'. The Open Force Field Toolkit does not require the OpenEye Toolkits, and can use RDKit/AmberTools instead. However, if you have a valid license for the OpenEye Toolkits, consider installing them for faster performance and additional file format support: https://docs.eyesopen.com/toolkits/python/quickstart-python/linuxosx.html OpenEye offers free Toolkit licenses for academics: https://www.eyesopen.com/academic-licensing\n"
     ]
    }
   ],
   "source": [
    "# Import Block\n",
    "import numpy as np\n",
    "from rdkit import Chem\n",
    "from openbabel import pybel\n",
    "from openff.toolkit.topology import Molecule,Topology\n",
    "from openff.toolkit.utils import RDKitToolkitWrapper\n",
    "import openmm\n",
    "from simtk.openmm import app\n",
    "from openmm import unit\n",
    "from openmm.app import PDBFile\n",
    "from openff.toolkit.typing.engines.smirnoff import ForceField\n",
    "from openmm.vec3 import Vec3\n",
    "from scipy.optimize import minimize\n",
    "import warnings\n",
    "warnings.simplefilter(\"ignore\")\n"
   ]
  },
  {
   "cell_type": "code",
   "execution_count": 2,
   "metadata": {
    "pycharm": {
     "name": "#%%\n"
    }
   },
   "outputs": [],
   "source": [
    "# Wrapper and FF setup\n",
    "# Use RDKit wrapper\n",
    "rdktkw = RDKitToolkitWrapper()\n",
    "\n",
    "# Loading setup parameters\n",
    "forcefield = ForceField('openff-2.0.0.offxml')"
   ]
  },
  {
   "cell_type": "code",
   "execution_count": 3,
   "metadata": {
    "pycharm": {
     "name": "#%%\n"
    }
   },
   "outputs": [],
   "source": [
    "# load pdb with one copy of pdb file\n",
    "#off_mol = Molecule.from_pdb_and_smiles('7101899.pdb', \"CC1=CN=C(C(=C1OC)C)C[S@@](=O)C2=NC3=C(N2)C=C(C=C3)OC\")\n",
    "off_mol = Molecule.from_pdb_and_smiles('1100249.pdb', \"O=C1N([C@H]2C=C[C@@H]1[C@H]1C[C@@H]2C=C1)C(=O)O[C@H]1[C@@H](CC[C@H](C1)C)C(C)C\")\n",
    "\n"
   ]
  },
  {
   "cell_type": "code",
   "execution_count": 4,
   "metadata": {
    "pycharm": {
     "name": "#%%\n"
    }
   },
   "outputs": [
    {
     "name": "stderr",
     "output_type": "stream",
     "text": [
      "/bin/bash: /home/qualenal/anaconda3/envs/openFF/lib/libtinfo.so.6: no version information available (required by /bin/bash)\n",
      "/bin/bash: /home/qualenal/anaconda3/envs/openFF/lib/libtinfo.so.6: no version information available (required by /bin/bash)\n",
      "/bin/bash: /home/qualenal/anaconda3/envs/openFF/lib/libtinfo.so.6: no version information available (required by /bin/bash)\n",
      "/bin/bash: /home/qualenal/anaconda3/envs/openFF/lib/libtinfo.so.6: no version information available (required by /bin/bash)\n",
      "/bin/bash: /home/qualenal/anaconda3/envs/openFF/lib/libtinfo.so.6: no version information available (required by /bin/bash)\n",
      "/bin/bash: /home/qualenal/anaconda3/envs/openFF/lib/libtinfo.so.6: no version information available (required by /bin/bash)\n"
     ]
    }
   ],
   "source": [
    "# load supercell pdb file (2x2x2) into topology\n",
    "pdb_file = PDBFile('1100249_supercell.pdb')\n",
    "off_top = Topology.from_openmm(pdb_file.topology, [off_mol])\n",
    "# Create MD simulation inputs\n",
    "system = forcefield.create_openmm_system(off_top)\n",
    "integrator = openmm.VerletIntegrator(1*unit.femtoseconds)\n",
    "platform = openmm.Platform.getPlatformByName('Reference')"
   ]
  },
  {
   "cell_type": "code",
   "execution_count": 5,
   "outputs": [],
   "source": [
    "# create simulation\n",
    "simulation = openmm.app.Simulation(pdb_file.topology, system, integrator, platform)"
   ],
   "metadata": {
    "collapsed": false,
    "pycharm": {
     "name": "#%%\n"
    }
   }
  },
  {
   "cell_type": "code",
   "execution_count": null,
   "outputs": [],
   "source": [
    "# set initial positions from pdbfile\n",
    "positions = pdb_file.getPositions()\n",
    "simulation.context.setPositions(positions)"
   ],
   "metadata": {
    "collapsed": false,
    "pycharm": {
     "name": "#%%\n"
    }
   }
  },
  {
   "cell_type": "code",
   "execution_count": 13,
   "metadata": {
    "pycharm": {
     "name": "#%%\n"
    }
   },
   "outputs": [],
   "source": [
    "# set reporters\n",
    "pdb_reporter = openmm.app.PDBReporter('trajectory.pdb', 1)\n",
    "state_data_reporter = openmm.app.StateDataReporter(\n",
    "    \"data.csv\",\n",
    "    1,\n",
    "    step=True,\n",
    "    potentialEnergy=True,\n",
    "    temperature=True,\n",
    "    density=True,\n",
    ")\n",
    "simulation.reporters.append(pdb_reporter)\n",
    "simulation.reporters.append(state_data_reporter)"
   ]
  },
  {
   "cell_type": "code",
   "execution_count": 27,
   "metadata": {
    "pycharm": {
     "name": "#%%\n"
    }
   },
   "outputs": [
    {
     "name": "stdout",
     "output_type": "stream",
     "text": [
      "Initial Energy 11890.525741791453 kJ/mol\n",
      "Minimizing Energy!\n",
      "Final Energy = 7801.333976616224 kJ/mol\n"
     ]
    }
   ],
   "source": [
    "simulation.context.setPositions(positions)\n",
    "simulation.saveState('initial')\n",
    "orig_potential = simulation.context.getState(getEnergy=True).getPotentialEnergy()\n",
    "#state_data_reporter.report(simulation, simulation.context.getState())\n",
    "print('Initial Energy ' + str(orig_potential))\n",
    "print('Minimizing Energy!')\n",
    "simulation.minimizeEnergy()\n",
    "min_state = simulation.context.getState(getEnergy=True, getPositions=True, getForces=True)\n",
    "min_potential = min_state.getPotentialEnergy()\n",
    "print('Final Energy = ' + str(min_potential))\n"
   ]
  },
  {
   "cell_type": "code",
   "execution_count": 15,
   "metadata": {
    "pycharm": {
     "name": "#%%\n"
    }
   },
   "outputs": [],
   "source": [
    "# try running a 0 step\n",
    "simulation.step(1)\n"
   ]
  },
  {
   "cell_type": "code",
   "execution_count": 16,
   "metadata": {
    "pycharm": {
     "name": "#%%\n"
    }
   },
   "outputs": [
    {
     "name": "stdout",
     "output_type": "stream",
     "text": [
      "0.014685853\n"
     ]
    }
   ],
   "source": [
    "import mdtraj\n",
    "\n",
    "initial = mdtraj.load_pdb('1100249_supercell.pdb')\n",
    "final = mdtraj.load_pdb('trajectory.pdb')\n",
    "rmsd = mdtraj.rmsd(initial,final)\n",
    "print(rmsd[0])"
   ]
  },
  {
   "cell_type": "code",
   "execution_count": 35,
   "outputs": [],
   "source": [
    "# Need block to feed parameters to minimizer, where forces provide 3*n derivatives of energy\n",
    "# wrt position, +3 more derivatives of energy wrt box vectors\n",
    "# This block is a work in progress\n",
    "\n",
    "def box_energy(x,*args):\n",
    "    # x is np array of 3*n(atoms) positional coordinates and 6 coordinates of 3 triclinical box vectors\n",
    "    # Return the energy of the system (in kJ/mol)\n",
    "    # *args will have the simulation context and n (number of particles)\n",
    "    context = args[0]\n",
    "    n = args[1]\n",
    "    # Build position array\n",
    "    positions_arr = np.empty([n,3])\n",
    "    for i in range(int(n)):\n",
    "        positions_arr[i][0] = x[i*3]\n",
    "        positions_arr[i][1] = x[i*3+1]\n",
    "        positions_arr[i][2] = x[i*3+2]\n",
    "    # Build periodic box vectors\n",
    "    #a = np.array([x[n*3],0,0])\n",
    "    #b = np.array([x[n*3+1],x[n*3+2],0])\n",
    "    #c = np.array([x[n*3+3],x[n*3+4],x[n*3+5]])\n",
    "    # Set Context with positions and periodic boundary conditions\n",
    "    context.setPositions(positions_arr)\n",
    "    #print(positions_arr)\n",
    "    #context.setPeriodicBoxVectors(a,b,c)\n",
    "    # Return Energy\n",
    "    energy = context.getState(getEnergy=True).getPotentialEnergy().value_in_unit(unit.kilojoule_per_mole)\n",
    "    print(energy)\n",
    "    return energy\n",
    "\n",
    "def jacobian(x,*args):\n",
    "    #must return a n*3 + 6 size vector with derivative of energy with respect to each input parameter\n",
    "    #for positions, return given forces\n",
    "    context = args[0]\n",
    "    n = args[1]\n",
    "\n",
    "    energy = context.getState(getEnergy=True).getPotentialEnergy().value_in_unit(unit.kilojoule_per_mole)\n",
    "\n",
    "    # Positions\n",
    "    positions_arr = np.empty([n,3])\n",
    "    for i in range(int(n)):\n",
    "        positions_arr[i][:] = x[i*3:i*3+3]\n",
    "    context.setPositions(positions_arr)\n",
    "    # box vectors\n",
    "    #a = np.array([x[n*3],0,0])\n",
    "    #b = np.array([x[n*3+1],x[n*3+2],0])\n",
    "    #c = np.array([x[n*3+3],x[n*3+4],x[n*3+5]])\n",
    "    epsilon = 1e-8\n",
    "    # a_x\n",
    "    temp_x = x\n",
    "    #temp_x[n*3] = x[n*3] + epsilon\n",
    "    # TODO: rescale positions?\n",
    "    #new_energy = box_energy(temp_x,context,n)\n",
    "    #grad_a_x = (new_energy-energy)/epsilon\n",
    "    forces = -1*context.getState(getForces=True).getForces(asNumpy=True).value_in_unit(unit.kilojoule_per_mole/(unit.nano*unit.meter))\n",
    "    return forces.flatten()"
   ],
   "metadata": {
    "collapsed": false,
    "pycharm": {
     "name": "#%%\n"
    }
   }
  },
  {
   "cell_type": "code",
   "execution_count": 17,
   "outputs": [
    {
     "name": "stdout",
     "output_type": "stream",
     "text": [
      "[  400.83722812 -1502.18623583  -814.53757672 ...   -20.18745337\n",
      "   107.44029713   207.66900676]\n",
      "[  400.83722812 -1502.18623583  -814.53757672 ...   -20.18745337\n",
      "   107.44029713   207.66900676]\n"
     ]
    }
   ],
   "source": [
    "# Dummy variables to test\n",
    "test_state = simulation.context.getState(getPositions=True)\n",
    "test_positions = test_state.getPositions(asNumpy=True)\n",
    "x_test = test_positions.flatten()\n",
    "n_test = len(test_positions)\n",
    "test = jacobian(x_test,simulation.context,n_test)\n",
    "print(test)"
   ],
   "metadata": {
    "collapsed": false,
    "pycharm": {
     "name": "#%%\n"
    }
   }
  },
  {
   "cell_type": "code",
   "execution_count": 37,
   "outputs": [
    {
     "name": "stdout",
     "output_type": "stream",
     "text": [
      "11890.525741791453\n",
      "315261.99352872476\n",
      "9707.688060294733\n",
      "9197.092893032925\n",
      "8786.380022326306\n",
      "8564.454997537807\n",
      "8395.293318736885\n",
      "8300.483661258671\n",
      "8235.658611625\n",
      "8193.119757050572\n",
      "8164.5649554014635\n",
      "8091.735447453364\n",
      "8027.410806067901\n",
      "7946.787198851995\n",
      "7887.492056798164\n",
      "7838.6160709572105\n",
      "7786.120917097875\n",
      "7752.856557939624\n",
      "7712.476072126381\n",
      "7672.732359989404\n",
      "7646.156791313935\n",
      "7627.814509494283\n",
      "7574.497567299666\n",
      "7558.257700487447\n",
      "7527.798234238635\n",
      "7488.130191625733\n",
      "7466.963070935459\n",
      "7427.421196989611\n",
      "7407.699232336214\n",
      "7378.035889363182\n",
      "7385.5577547760495\n",
      "7357.983770059833\n",
      "7329.544199703687\n",
      "7305.517055580254\n",
      "7286.394006472627\n",
      "7268.852281765756\n",
      "7254.540053141496\n",
      "7241.690368614511\n",
      "7231.7331971380245\n",
      "7213.87583447004\n",
      "7211.818341215316\n",
      "7192.435117529465\n",
      "7183.186553889471\n",
      "7167.175592590349\n",
      "7146.047794206481\n",
      "7170.221599674263\n",
      "7131.698687295728\n",
      "7102.439606628412\n",
      "7084.0019430189695\n",
      "7066.87818169775\n",
      "7051.4833589691625\n",
      "7029.748718056526\n",
      "7010.8777612557515\n",
      "7000.20924422447\n",
      "6981.737769205789\n",
      "6963.4480946328\n",
      "6939.882462184283\n",
      "6907.0536164513\n",
      "6896.403075269993\n",
      "6882.630588658321\n",
      "6854.155863970504\n",
      "6836.74135187604\n",
      "6820.4379176020175\n",
      "6802.776550362134\n",
      "6793.674564344083\n",
      "6782.227750931786\n",
      "6775.1437148779605\n",
      "6761.235577073125\n",
      "6754.912004496218\n",
      "6746.985999414725\n",
      "6732.959413799172\n",
      "6724.720751118482\n",
      "6713.598518934723\n",
      "6707.5192908396075\n",
      "6702.07502214239\n",
      "6695.661612250937\n",
      "6690.03899118582\n",
      "6685.816220661443\n",
      "6679.23415447088\n",
      "6676.914647462805\n",
      "6668.853834286738\n",
      "6665.870939956443\n",
      "6662.192810631688\n",
      "6657.14953368506\n",
      "6651.257248736636\n",
      "6643.853699981533\n",
      "6639.782077770182\n",
      "6634.997212087495\n",
      "6628.563969505296\n",
      "6624.629405321464\n",
      "6619.3457592489285\n",
      "6609.199332533113\n",
      "6600.558275247857\n",
      "6592.983368927691\n",
      "6587.327639483436\n",
      "6580.2052070697755\n",
      "6574.87538844994\n",
      "6568.10627139166\n",
      "6564.516922622082\n",
      "6560.267164139614\n",
      "6555.712041675644\n",
      "6550.889807513164\n",
      "6547.289074231077\n",
      "6543.038326364456\n",
      "6540.4408797406195\n",
      "6537.392553904188\n",
      "6533.487740674245\n",
      "6528.9782592316005\n",
      "6526.351114205392\n",
      "6523.954536285901\n",
      "6522.02529869942\n",
      "6518.372360145893\n",
      "6513.833883774543\n",
      "6512.344668279748\n",
      "6507.162850913968\n",
      "6504.858613980126\n",
      "6501.1604245741255\n",
      "6499.790816163022\n",
      "6496.132934615236\n",
      "6494.589356885008\n",
      "6492.9872294239885\n",
      "6489.391042389972\n",
      "6495.5197498962025\n",
      "6487.538539567953\n",
      "6484.606856142675\n",
      "6482.327448374534\n",
      "6480.046932066409\n",
      "6477.421265746865\n",
      "6474.994395680624\n",
      "6470.90308021664\n",
      "6471.029202757674\n",
      "6469.3817241407905\n",
      "6467.813761928128\n",
      "6465.386064474278\n",
      "6464.296693792725\n",
      "6462.6779283300275\n",
      "6460.8566091171815\n",
      "6459.741087749679\n",
      "6458.423855434507\n",
      "6456.530600870599\n",
      "6455.092196769276\n",
      "6452.834315504644\n",
      "6451.423461303908\n",
      "6448.870298180116\n",
      "6446.487599534721\n",
      "6443.793279433687\n",
      "6441.795429198708\n",
      "6439.823412206324\n",
      "6437.760650238879\n",
      "6436.144661351544\n",
      "6434.41467187184\n",
      "6432.644375169126\n",
      "6430.8478637949065\n",
      "6429.831349046051\n",
      "6429.164210765559\n",
      "6428.31856264708\n",
      "6427.190678235755\n",
      "6425.579357808892\n",
      "6424.268152815814\n",
      "6423.3631199436295\n",
      "6422.282752650575\n",
      "6421.071625431512\n",
      "6420.338133375546\n",
      "6419.574351625364\n",
      "6419.012490768508\n",
      "6418.481393150416\n",
      "6417.434947933345\n",
      "6416.635615180467\n",
      "6416.202769999629\n",
      "6415.557690330268\n",
      "6414.987482855977\n",
      "6414.119691485113\n",
      "6412.782497738161\n",
      "6412.21473733426\n",
      "6411.2500018982555\n",
      "6409.405306920053\n",
      "6408.3972736268515\n",
      "6407.735241831671\n",
      "6406.220275084892\n",
      "6405.831849670874\n",
      "6404.913272980502\n",
      "6404.996898869293\n",
      "6404.557028911893\n",
      "6403.754648330079\n",
      "6403.068365113684\n",
      "6402.236488729775\n",
      "6401.441276274067\n",
      "6400.637382084766\n",
      "6400.638531140919\n",
      "6400.199047811733\n",
      "6399.658106320188\n",
      "6398.417696124334\n",
      "6397.673380810469\n",
      "6396.704211320002\n",
      "6396.020006399296\n",
      "6395.457947270555\n",
      "6394.965339134229\n",
      "6394.327824495524\n",
      "6393.071248936172\n",
      "6392.181078336311\n",
      "6391.6751574869795\n",
      "6390.981035579667\n",
      "6390.304968187289\n",
      "6389.46763526287\n",
      "6388.256274893798\n",
      "6387.934904394371\n",
      "6387.569428092269\n",
      "6387.206328304781\n",
      "      fun: 6387.206328304781\n",
      " hess_inv: <5832x5832 LbfgsInvHessProduct with dtype=float64>\n",
      "      jac: array([ -0.26242423,   2.79818777,  -6.7060211 , ..., -29.98464042,\n",
      "        29.24031496, -41.10465011])\n",
      "  message: 'STOP: TOTAL NO. of ITERATIONS REACHED LIMIT'\n",
      "     nfev: 208\n",
      "      nit: 200\n",
      "     njev: 208\n",
      "   status: 1\n",
      "  success: False\n",
      "        x: array([ 0.57002266, -0.01885508,  0.45527388, ...,  1.66331987,\n",
      "        2.63850749,  1.54831929])\n"
     ]
    }
   ],
   "source": [
    "result = minimize(box_energy,x_test,(simulation.context,n_test),method='L-BFGS-B',jac=jacobian,options={'maxiter':200,'eps':1.0e-4})\n",
    "print(result)\n"
   ],
   "metadata": {
    "collapsed": false,
    "pycharm": {
     "name": "#%%\n"
    }
   }
  },
  {
   "cell_type": "code",
   "execution_count": 7,
   "outputs": [
    {
     "name": "stdout",
     "output_type": "stream",
     "text": [
      "25.62299919128418\n"
     ]
    }
   ],
   "source": [
    "# Example for tranformation of cartesian coordinates to fractional\n",
    "pdb_file.topology.getUnitCellDimensions()\n",
    "box_vectors = pdb_file.topology.getPeriodicBoxVectors()\n",
    "print(box_vectors.value_in_unit(unit.nano*unit.meter))\n",
    "A= np.array(box_vectors.value_in_unit(unit.nano*unit.meter))\n",
    "print(A)\n",
    "A_inv = np.linalg.inv(A)\n",
    "x = np.array([[1,1,1],[1,1,1]])\n",
    "y = np.matmul(A_inv,x.T).T\n",
    "print(A_inv)\n",
    "print(y)"
   ],
   "metadata": {
    "collapsed": false,
    "pycharm": {
     "name": "#%%\n"
    }
   }
  },
  {
   "cell_type": "code",
   "execution_count": 8,
   "outputs": [
    {
     "ename": "NameError",
     "evalue": "name 'min_state' is not defined",
     "output_type": "error",
     "traceback": [
      "\u001B[0;31m---------------------------------------------------------------------------\u001B[0m",
      "\u001B[0;31mNameError\u001B[0m                                 Traceback (most recent call last)",
      "\u001B[0;32m/tmp/ipykernel_158210/2904295365.py\u001B[0m in \u001B[0;36m<module>\u001B[0;34m\u001B[0m\n\u001B[0;32m----> 1\u001B[0;31m \u001B[0mpositions\u001B[0m \u001B[0;34m=\u001B[0m \u001B[0mmin_state\u001B[0m\u001B[0;34m.\u001B[0m\u001B[0mgetPositions\u001B[0m\u001B[0;34m(\u001B[0m\u001B[0masNumpy\u001B[0m\u001B[0;34m=\u001B[0m\u001B[0;32mTrue\u001B[0m\u001B[0;34m)\u001B[0m\u001B[0;34m\u001B[0m\u001B[0;34m\u001B[0m\u001B[0m\n\u001B[0m\u001B[1;32m      2\u001B[0m \u001B[0mpositions\u001B[0m \u001B[0;34m=\u001B[0m \u001B[0mpositions\u001B[0m\u001B[0;34m.\u001B[0m\u001B[0mvalue_in_unit\u001B[0m\u001B[0;34m(\u001B[0m\u001B[0munit\u001B[0m\u001B[0;34m.\u001B[0m\u001B[0mnano\u001B[0m\u001B[0;34m*\u001B[0m\u001B[0munit\u001B[0m\u001B[0;34m.\u001B[0m\u001B[0mmeter\u001B[0m\u001B[0;34m)\u001B[0m\u001B[0;34m\u001B[0m\u001B[0;34m\u001B[0m\u001B[0m\n\u001B[1;32m      3\u001B[0m \u001B[0mforces\u001B[0m \u001B[0;34m=\u001B[0m \u001B[0mmin_state\u001B[0m\u001B[0;34m.\u001B[0m\u001B[0mgetForces\u001B[0m\u001B[0;34m(\u001B[0m\u001B[0masNumpy\u001B[0m\u001B[0;34m=\u001B[0m\u001B[0;32mTrue\u001B[0m\u001B[0;34m)\u001B[0m\u001B[0;34m.\u001B[0m\u001B[0mvalue_in_unit\u001B[0m\u001B[0;34m(\u001B[0m\u001B[0munit\u001B[0m\u001B[0;34m.\u001B[0m\u001B[0mkilojoule_per_mole\u001B[0m\u001B[0;34m/\u001B[0m\u001B[0;34m(\u001B[0m\u001B[0munit\u001B[0m\u001B[0;34m.\u001B[0m\u001B[0mnano\u001B[0m\u001B[0;34m*\u001B[0m\u001B[0munit\u001B[0m\u001B[0;34m.\u001B[0m\u001B[0mmeter\u001B[0m\u001B[0;34m)\u001B[0m\u001B[0;34m)\u001B[0m\u001B[0;34m\u001B[0m\u001B[0;34m\u001B[0m\u001B[0m\n\u001B[1;32m      4\u001B[0m \u001B[0mprint\u001B[0m\u001B[0;34m(\u001B[0m\u001B[0mforces\u001B[0m\u001B[0;34m)\u001B[0m\u001B[0;34m\u001B[0m\u001B[0;34m\u001B[0m\u001B[0m\n\u001B[1;32m      5\u001B[0m \u001B[0mfrac_positions\u001B[0m \u001B[0;34m=\u001B[0m \u001B[0mnp\u001B[0m\u001B[0;34m.\u001B[0m\u001B[0mmatmul\u001B[0m\u001B[0;34m(\u001B[0m\u001B[0mA_inv\u001B[0m\u001B[0;34m,\u001B[0m\u001B[0mpositions\u001B[0m\u001B[0;34m.\u001B[0m\u001B[0mT\u001B[0m\u001B[0;34m)\u001B[0m\u001B[0;34m.\u001B[0m\u001B[0mT\u001B[0m\u001B[0;34m\u001B[0m\u001B[0;34m\u001B[0m\u001B[0m\n",
      "\u001B[0;31mNameError\u001B[0m: name 'min_state' is not defined"
     ]
    }
   ],
   "source": [
    "positions = min_state.getPositions(asNumpy=True)\n",
    "positions = positions.value_in_unit(unit.nano*unit.meter)\n",
    "forces = min_state.getForces(asNumpy=True).value_in_unit(unit.kilojoule_per_mole/(unit.nano*unit.meter))\n",
    "print(forces)\n",
    "frac_positions = np.matmul(A_inv,positions.T).T\n",
    "print(positions)\n"
   ],
   "metadata": {
    "collapsed": false,
    "pycharm": {
     "name": "#%%\n"
    }
   }
  },
  {
   "cell_type": "code",
   "execution_count": null,
   "outputs": [],
   "source": [
    "print(box_vectors)\n",
    "box_vector_array = np.array(box_vectors.value_in_unit(unit.nano*unit.meter)).flatten()\n",
    "print(box_vector_array)\n",
    "box_vector_array = np.delete(box_vector_array,[1,2,5]) #a_x,b_x,b_y,c_x,c_y,c_z\n",
    "print(box_vector_array)\n",
    "print(len(positions)/3)\n"
   ],
   "metadata": {
    "collapsed": false,
    "pycharm": {
     "name": "#%%\n"
    }
   }
  }
 ],
 "metadata": {
  "kernelspec": {
   "display_name": "PyCharm (openff-toolkit)",
   "language": "python",
   "name": "pycharm-de0ca6a1"
  },
  "language_info": {
   "codemirror_mode": {
    "name": "ipython",
    "version": 3
   },
   "file_extension": ".py",
   "mimetype": "text/x-python",
   "name": "python",
   "nbconvert_exporter": "python",
   "pygments_lexer": "ipython3",
   "version": "3.9.6"
  }
 },
 "nbformat": 4,
 "nbformat_minor": 1
}